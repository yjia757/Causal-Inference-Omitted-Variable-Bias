{
 "cells": [
  {
   "metadata": {
    "ExecuteTime": {
     "end_time": "2024-11-27T21:47:46.815591Z",
     "start_time": "2024-11-27T21:47:45.131239Z"
    }
   },
   "cell_type": "code",
   "source": [
    "import numpy as np\n",
    "import pandas as pd\n",
    "from sklearn.linear_model import LinearRegression, LogisticRegression\n",
    "from xgboost import XGBRegressor, XGBClassifier\n",
    "from sklearn.metrics import roc_auc_score\n",
    "from sklearn.metrics.pairwise import rbf_kernel\n",
    "from scipy.stats import pearsonr\n",
    "from IPython.display import display, Math, Markdown\n",
    "from sklearn.model_selection import train_test_split\n"
   ],
   "id": "2573776a88f1b0bc",
   "outputs": [],
   "execution_count": 1
  },
  {
   "metadata": {},
   "cell_type": "markdown",
   "source": [
    "## 0. Introduction\n",
    "\n",
    "Simulations in this document are for the approach outlined in draft 3.1. We generate data under settings such that sequential conditional exchangeability assumption holds with full set of covariates. We compute the population quantity of mean potential outcome under treatment path $\\bar{A} = \\bar{1}$ (1), the population AIPW $\\psi$ based on (8), the incorrect population AIPW $\\psi^*$ based on (11), their difference $\\psi^*-\\psi$ as listed (12). Moreover, we compute the basic ovb based on equation (13), simplified ovb based on equation (24),  the ovb bound based on (14) together with (15), and the ovb bound based on (14), (15), and (18).\n",
    "\n",
    "## 1. Data Generating \n",
    "\n",
    "### 1.1 Description\n",
    "\n",
    "\\begin{align*}\n",
    "U_0 &\\sim \\mathcal{N}(0, \\sigma_{U_0}^2), \\\\[1em]\n",
    "L_0 &= \\beta_{L_0|U_0} U_0 + \\epsilon_{L_0}, \\quad \\epsilon_{L_0} \\sim \\mathcal{N}(0, \\sigma_{L_0}^2), \\\\[1em]\n",
    "P(A_0 = 1 \\mid L_0 = \\ell_0, U_0 = u_0) &= \\left[1 + \\exp\\{- (\\beta_{A_0|L_0} \\ell_0 + \\beta_{A_0|U_0} u_0)\\}\\right]^{-1}, \\\\[1em]\n",
    "L_1 &= \\beta_{L_1|L_0} L_0 + \\beta_{L_1|A_0} A_0 + \\beta_{L_1|U_0} U_0 + \\epsilon_{L_1}, \\quad \\epsilon_{L_1} \\sim \\mathcal{N}(0, \\sigma_{L_1}^2), \\\\[1em]\n",
    "P(A_1 = 1 \\mid L_0 = \\ell_0, L_1 = \\ell_1, A_0 = a_0, U_0 = u_0) &= \\left[1 + \\exp\\{- (\\beta_{A_1|L_1} \\ell_1 + \\beta_{A_1|A_0} a_0 + \\beta_{A_1|L_0} \\ell_0 + \\beta_{A_1|U_0} u_0)\\}\\right]^{-1}, \\\\[1em]\n",
    "Y &= \\gamma_{Y|L_0} L_0 + \\gamma_{Y|L_1} L_1 + \\gamma_{Y|A_0} A_0 + \\gamma_{Y|A_1} A_1 + \\gamma_{Y|U_0} U_0 + \\epsilon_Y, \\quad \\epsilon_Y \\sim \\mathcal{N}(0, \\sigma_Y^2).\n",
    "\\end{align*}\n",
    "\n",
    "\\begin{align*}\n",
    "\\beta_{L0} &= (\\beta_{L_0|U_0} ) = 0.5, \\\\\n",
    "\\beta_{A_0} &= (\\beta_{A_0|L_0}, \\beta_{A_0|U_0}) = (0.5, 1.5),\\\\\n",
    "\\beta_{L_1} &= (\\beta_{L_1|L_0}, \\beta_{L_1|A_0}, \\beta_{L_1|U_0}) = (0.6, 0.4, 0.8), \\\\\n",
    "\\beta_{A_1} &= (\\beta_{A_1|L_1}, \\beta_{A_1|A_0}, \\beta_{A_1|L_0}, \\beta_{A_1|U_0}) = (0.4, 0.2, 0.3, 1.0), \\\\\n",
    "\\gamma_{Y} &= (\\gamma_{Y|L_0}, \\gamma_{Y|L_1} L_1, \\gamma_{Y|A_0} A_0,  \\gamma_{Y|A_1} , \\gamma_{Y|U_0}) = (1.2, 0.8, 0.5, 0.7, 2.0),\\\\\n",
    "\\sigma_{U_0} &= 1,\\\\\n",
    "\\sigma_{L_0} &= 1,\\\\\n",
    "\\sigma_{L_1} &= 1,\\\\\n",
    "\\sigma_Y &= 1.\n",
    "\\end{align*}\n",
    "\n"
   ],
   "id": "f7f584865ffc9462"
  },
  {
   "metadata": {
    "ExecuteTime": {
     "end_time": "2024-11-27T21:47:53.591193Z",
     "start_time": "2024-11-27T21:47:49.515221Z"
    }
   },
   "cell_type": "code",
   "source": [
    "# Setting seed\n",
    "np.random.seed(43)\n",
    "\n",
    "# Large sample size\n",
    "n = 20000000\n",
    "\n",
    "# Define parameters for the data-generating process\n",
    "params = {\n",
    "    \"U0_std\": 1.0,          # Standard deviation for U_0\n",
    "    \"L0_U0_coeff\": 0.5,     # Coefficient for U_0 in L_0\n",
    "    \"L0_noise_std\": 1.0,    # Standard deviation for noise in L_0\n",
    "    \"A0_L0_coeff\": 0.5,     # Coefficient for L_0 in A_0\n",
    "    \"A0_U0_coeff\": 1.5,     # Coefficient for U_0 in A_0\n",
    "    \"L1_L0_coeff\": 0.6,     # Coefficient for L_0 in L_1\n",
    "    \"L1_A0_coeff\": 0.4,     # Coefficient for A_0 in L_1\n",
    "    \"L1_U0_coeff\": 0.8,     # Coefficient for U_0 in L_1\n",
    "    \"L1_noise_std\": 1.0,    # Standard deviation for noise in L_1\n",
    "    \"A1_L1_coeff\": 0.4,     # Coefficient for L_1 in A_1\n",
    "    \"A1_A0_coeff\": 0.2,     # Coefficient for A_0 in A_1\n",
    "    \"A1_L0_coeff\": 0.3,     # Coefficient for L_0 in A_1\n",
    "    \"A1_U0_coeff\": 1.0,     # Coefficient for U_0 in A_1\n",
    "    \"Y_L0_coeff\": 1.2,      # Coefficient for L_0 in Y\n",
    "    \"Y_L1_coeff\": 0.8,      # Coefficient for L_1 in Y\n",
    "    \"Y_A0_coeff\": 0.5,      # Coefficient for A_0 in Y\n",
    "    \"Y_A1_coeff\": 0.7,      # Coefficient for A_1 in Y\n",
    "    \"Y_U0_coeff\": 2.0,      # Coefficient for U_0 in Y\n",
    "    \"Y_noise_std\": 1.0      # Standard deviation for noise in Y\n",
    "}\n",
    "\n",
    "# Step 1: Generate U0 (baseline unobserved covariates)\n",
    "U_0 = np.random.normal(0, params[\"U0_std\"], n)  # U_0 ~ Normal(0, std)\n",
    "\n",
    "# Step 2: Generate L0 (baseline observed covariates) as a function of U0\n",
    "L_0 = params[\"L0_U0_coeff\"] * U_0 + np.random.normal(0, params[\"L0_noise_std\"], n)\n",
    "\n",
    "# Step 3: Generate A0 (treatment at time 0) based on L0 and U0\n",
    "p_A0 = 1 / (1 + np.exp(-(params[\"A0_L0_coeff\"] * L_0 + params[\"A0_U0_coeff\"] * U_0)))\n",
    "A_0 = np.random.binomial(1, p_A0, n)\n",
    "\n",
    "# Step 4: Generate L1 (covariates at time 1) based on L0, U0, and A0\n",
    "L_1 = (params[\"L1_L0_coeff\"] * L_0 +\n",
    "       params[\"L1_A0_coeff\"] * A_0 +\n",
    "       params[\"L1_U0_coeff\"] * U_0 +\n",
    "       np.random.normal(0, params[\"L1_noise_std\"], n))\n",
    "\n",
    "# Step 5: Generate A1 (treatment at time 1) based on L0, U0, L1, and A0\n",
    "p_A1 = 1 / (1 + np.exp(-(params[\"A1_L1_coeff\"] * L_1 +\n",
    "                        params[\"A1_A0_coeff\"] * A_0 +\n",
    "                        params[\"A1_L0_coeff\"] * L_0 +\n",
    "                        params[\"A1_U0_coeff\"] * U_0)))\n",
    "A_1 = np.random.binomial(1, p_A1, n)\n",
    "\n",
    "# Step 6: Generate observed outcome Y based on L0, U0, A0, A1, and L1\n",
    "Y = (params[\"Y_L0_coeff\"] * L_0 +\n",
    "     params[\"Y_L1_coeff\"] * L_1 +\n",
    "     params[\"Y_A0_coeff\"] * A_0 +\n",
    "     params[\"Y_A1_coeff\"] * A_1 +\n",
    "     params[\"Y_U0_coeff\"] * U_0 +\n",
    "     np.random.normal(0, params[\"Y_noise_std\"], n))\n"
   ],
   "id": "e3665149d4945288",
   "outputs": [],
   "execution_count": 2
  },
  {
   "metadata": {
    "ExecuteTime": {
     "end_time": "2024-11-27T21:48:00.183682Z",
     "start_time": "2024-11-27T21:47:58.766259Z"
    }
   },
   "cell_type": "code",
   "source": [
    "# Step 7: Regenerate L1 under the intervention A0=1\n",
    "# L1_bar1: covariates at time 1 assuming A0=1\n",
    "L1_bar1 = (params[\"L1_L0_coeff\"] * L_0 +\n",
    "           params[\"L1_A0_coeff\"] * 1 +  # Intervention A0=1\n",
    "           params[\"L1_U0_coeff\"] * U_0 +\n",
    "           np.random.normal(0, params[\"L1_noise_std\"], n))\n",
    "\n",
    "# Y_bar1: potential outcome under treatment path (A0=1, A1=1)\n",
    "Y_bar1 = (params[\"Y_L0_coeff\"] * L_0 +\n",
    "          params[\"Y_L1_coeff\"] * L1_bar1 +\n",
    "          params[\"Y_A0_coeff\"] * 1 +  # Intervention A0=1\n",
    "          params[\"Y_A1_coeff\"] * 1 +  # Intervention A1=1\n",
    "          params[\"Y_U0_coeff\"] * U_0 +\n",
    "          np.random.normal(0, params[\"Y_noise_std\"], n))"
   ],
   "id": "5147bd48de7298ba",
   "outputs": [],
   "execution_count": 3
  },
  {
   "metadata": {
    "ExecuteTime": {
     "end_time": "2024-11-27T21:48:04.331449Z",
     "start_time": "2024-11-27T21:48:01.605112Z"
    }
   },
   "cell_type": "code",
   "source": [
    "# Combine data into a DataFrame\n",
    "data = pd.DataFrame({\n",
    "    \"L_0\": L_0,\n",
    "    \"U_0\": U_0,\n",
    "    \"A_0\": A_0,\n",
    "    \"L_1\": L_1,\n",
    "    \"A_1\": A_1,\n",
    "    \"Y\": Y,\n",
    "    \"L1_bar1\": L1_bar1,\n",
    "    \"Y_bar1\": Y_bar1\n",
    "})\n",
    "\n",
    "print(data.shape)"
   ],
   "id": "dbcad9c24d5902fa",
   "outputs": [
    {
     "name": "stdout",
     "output_type": "stream",
     "text": [
      "(20000000, 8)\n"
     ]
    }
   ],
   "execution_count": 4
  },
  {
   "metadata": {},
   "cell_type": "markdown",
   "source": [
    "\n",
    "### 1.2 Check sequential conditional exchangeability holds with full set of covariates via ROC AUC"
   ],
   "id": "dfd346a8854f780d"
  },
  {
   "metadata": {
    "ExecuteTime": {
     "end_time": "2024-11-27T05:55:27.958479Z",
     "start_time": "2024-11-27T05:55:27.955097Z"
    }
   },
   "cell_type": "code",
   "source": [
    "# Exploratory Checks Using ROC AUC via prediction model XGBoost \n",
    "def roc_aud_conditional_independence_test(X, y, additional_var=None):\n",
    "    \"\"\"Test conditional independence using XGBoost and ROC AUC.\"\"\"\n",
    "    model = XGBClassifier(eval_metric=\"logloss\")\n",
    "    model.fit(X, y)\n",
    "    baseline_roc_auc = roc_auc_score(y, model.predict_proba(X)[:, 1])\n",
    "\n",
    "    if additional_var is not None:\n",
    "        X_with_additional = np.column_stack((X, additional_var))\n",
    "        model_with_additional = XGBClassifier(eval_metric=\"logloss\")\n",
    "        model_with_additional.fit(X_with_additional, y)\n",
    "        additional_roc_auc = roc_auc_score(y, model_with_additional.predict_proba(X_with_additional)[:, 1])\n",
    "        return baseline_roc_auc, additional_roc_auc\n",
    "    else:\n",
    "        return baseline_roc_auc\n",
    "\n"
   ],
   "id": "62cd5ee5abc145e1",
   "outputs": [],
   "execution_count": 31
  },
  {
   "metadata": {
    "ExecuteTime": {
     "end_time": "2024-11-27T05:55:33.867997Z",
     "start_time": "2024-11-27T05:55:29.909871Z"
    }
   },
   "cell_type": "code",
   "source": [
    "# Test 1: Y^{\\bar{1}} ⫫ A0 | L0, U0\n",
    "X = data[['L_0', 'U_0']].values\n",
    "y = data['A_0'].values\n",
    "baseline_auc, auc_with_y = roc_aud_conditional_independence_test(X, y, data['Y_bar1'].values)\n",
    "print(f\"Test 1 (with U0): Baseline AUC={baseline_auc}, AUC with Y_bar1={auc_with_y}\")\n"
   ],
   "id": "c3b34f66198f7f42",
   "outputs": [
    {
     "name": "stdout",
     "output_type": "stream",
     "text": [
      "Test 1 (with U0): Baseline AUC=0.84805045480897, AUC with Y_bar1=0.848569927340395\n"
     ]
    }
   ],
   "execution_count": 32
  },
  {
   "metadata": {
    "ExecuteTime": {
     "end_time": "2024-11-27T05:55:40.438974Z",
     "start_time": "2024-11-27T05:55:36.639716Z"
    }
   },
   "cell_type": "code",
   "source": [
    "# Test 2: Y^{\\bar{1}} ⫫ A0 | L0\n",
    "X = data[['L_0']].values\n",
    "y = data['A_0'].values\n",
    "baseline_auc, auc_with_y = roc_aud_conditional_independence_test(X, y, data['Y_bar1'].values)\n",
    "print(f\"Test 2 (without U0): Baseline AUC={baseline_auc}, AUC with Y_bar1={auc_with_y}\")\n"
   ],
   "id": "1c757faeadd37e99",
   "outputs": [
    {
     "name": "stdout",
     "output_type": "stream",
     "text": [
      "Test 2 (without U0): Baseline AUC=0.7275974381460293, AUC with Y_bar1=0.8237608423671091\n"
     ]
    }
   ],
   "execution_count": 33
  },
  {
   "metadata": {},
   "cell_type": "markdown",
   "source": "### 1.3 Check sequential conditional exchangeability is violated with only observed set of covaraites via ROC AUC ",
   "id": "92e7aa542e8c84b3"
  },
  {
   "metadata": {
    "ExecuteTime": {
     "end_time": "2024-11-27T05:55:48.366945Z",
     "start_time": "2024-11-27T05:55:43.976598Z"
    }
   },
   "cell_type": "code",
   "source": [
    "# Test 3: Y^{\\bar{1}} ⫫ A1 | A0, L0, U0, L1\n",
    "X = data[['A_0', 'L_0', 'U_0', 'L_1']].values\n",
    "y = data['A_1'].values\n",
    "baseline_auc, auc_with_y = roc_aud_conditional_independence_test(X, y, data['Y_bar1'].values)\n",
    "print(f\"Test 3 (with U0): Baseline AUC={baseline_auc}, AUC with Y_bar1={auc_with_y}\")\n"
   ],
   "id": "f7530d9ccd479996",
   "outputs": [
    {
     "name": "stdout",
     "output_type": "stream",
     "text": [
      "Test 3 (with U0): Baseline AUC=0.852919989085951, AUC with Y_bar1=0.8531379646456854\n"
     ]
    }
   ],
   "execution_count": 34
  },
  {
   "metadata": {
    "ExecuteTime": {
     "end_time": "2024-11-27T05:55:54.469532Z",
     "start_time": "2024-11-27T05:55:50.451763Z"
    }
   },
   "cell_type": "code",
   "source": [
    "# Test 4: Y^{\\bar{1}} ⫫ A1 | A0, L0, L_1\n",
    "X = data[['A_0', 'L_0', 'L_1']].values\n",
    "y = data['A_1'].values\n",
    "baseline_auc, auc_with_y = roc_aud_conditional_independence_test(X, y, data['Y_bar1'].values)\n",
    "print(f\"Test 4 (without U0): Baseline AUC={baseline_auc}, AUC with Y_bar1={auc_with_y}\")\n"
   ],
   "id": "c221137577c7d245",
   "outputs": [
    {
     "name": "stdout",
     "output_type": "stream",
     "text": [
      "Test 4 (without U0): Baseline AUC=0.8278589512706339, AUC with Y_bar1=0.8443723662717287\n"
     ]
    }
   ],
   "execution_count": 35
  },
  {
   "metadata": {},
   "cell_type": "markdown",
   "source": "### 1.4 Check sequential conditional exchangeability holds with full set of covariates via statistical test",
   "id": "f3d61da882d130e3"
  },
  {
   "metadata": {
    "ExecuteTime": {
     "end_time": "2024-11-27T05:44:11.584378Z",
     "start_time": "2024-11-27T05:44:11.573007Z"
    }
   },
   "cell_type": "code",
   "source": [
    "def kernel_conditional_independence_test(X, Y, Z, gamma=1.0, kernel='rbf', threshold=0.05):\n",
    "    \"\"\"\n",
    "    Perform a kernel-based conditional independence test.\n",
    "\n",
    "    Parameters:\n",
    "    - X: np.array, the first variable to test for independence\n",
    "    - Y: np.array, the second variable to test for independence\n",
    "    - Z: np.array, the conditioning set\n",
    "    - gamma: float, bandwidth for RBF kernel\n",
    "    - kernel: str, kernel type ('rbf' only in this implementation)\n",
    "    - threshold: float, significance threshold for rejecting the null\n",
    "\n",
    "    Returns:\n",
    "    - p_value: float, p-value for the conditional independence test\n",
    "    - decision: bool, True if conditional independence is rejected (dependent)\n",
    "    \"\"\"\n",
    "\n",
    "    # Ensure inputs are numpy arrays\n",
    "    X = np.array(X).reshape(-1, 1)\n",
    "    Y = np.array(Y).reshape(-1, 1)\n",
    "    Z = np.array(Z)\n",
    "\n",
    "    # Compute kernels\n",
    "    if kernel == 'rbf':\n",
    "        K_X = rbf_kernel(X, gamma=gamma)\n",
    "        K_Y = rbf_kernel(Y, gamma=gamma)\n",
    "        K_Z = rbf_kernel(Z, gamma=gamma)\n",
    "    else:\n",
    "        raise ValueError(\"Unsupported kernel. Only 'rbf' is implemented.\")\n",
    "\n",
    "    # Compute residual kernels\n",
    "    K_X_given_Z = K_X - K_Z @ np.linalg.pinv(K_Z) @ K_X\n",
    "    K_Y_given_Z = K_Y - K_Z @ np.linalg.pinv(K_Z) @ K_Y\n",
    "\n",
    "    # Compute the test statistic (correlation of residual kernels)\n",
    "    test_statistic, _ = pearsonr(K_X_given_Z.ravel(), K_Y_given_Z.ravel())\n",
    "\n",
    "    # For simplicity, compute a pseudo p-value based on absolute correlation\n",
    "    p_value = 1 - abs(test_statistic)  # Lower value = more significant dependency\n",
    "\n",
    "    # Decide if conditional independence is rejected\n",
    "    decision = p_value < threshold\n",
    "\n",
    "    return p_value, decision"
   ],
   "id": "2e5727f4efb91e0",
   "outputs": [],
   "execution_count": 12
  },
  {
   "metadata": {
    "ExecuteTime": {
     "end_time": "2024-11-27T04:26:41.956997Z",
     "start_time": "2024-11-27T04:23:56.800904Z"
    }
   },
   "cell_type": "code",
   "source": [
    "# Test 1  whether Y^{\\bar{1}} is conditionally independent of A0 given L0, U0\n",
    "X = data['Y_bar1'].values  # Variable to test\n",
    "Y = data['A_0'].values     # Variable to test\n",
    "Z = data[['L_0', 'U_0']].values  # Conditioning set\n",
    "\n",
    "p_value, decision = kernel_conditional_independence_test(X, Y, Z, gamma=1.0)\n",
    "print(f\"Test 1 (Y_bar1 ⫫ A0 | L0, U0): p-value={p_value}, Reject CI={decision}\")"
   ],
   "id": "7af22de8a030f981",
   "outputs": [],
   "execution_count": null
  },
  {
   "metadata": {},
   "cell_type": "code",
   "outputs": [],
   "execution_count": null,
   "source": [
    "# Test 2 whether Y^{\\bar{1}} is conditionally independent of A0 given L0\n",
    "Z_without_U = data[['L_0']].values  # Conditioning set without U0\n",
    "p_value, decision = kernel_conditional_independence_test(X, Y, Z_without_U, gamma=1.0)\n",
    "print(f\"Test 2 (Y_bar1 ⫫ A0 | L0): p-value={p_value}, Reject CI={decision}\")"
   ],
   "id": "734d5808ffca88dc"
  },
  {
   "metadata": {},
   "cell_type": "markdown",
   "source": "### 1.5 Check sequential conditional exchangeability is violated with only observed set of covaraites via statistical test\n",
   "id": "bb304cd0c8550b44"
  },
  {
   "metadata": {},
   "cell_type": "code",
   "outputs": [],
   "execution_count": null,
   "source": [
    "# Test 3 whether Y^{\\bar{1}} is conditionally independent of A1 given A0, L0, U0, L1\n",
    "X = data['Y_bar1'].values  # Variable to test\n",
    "Y = data['A_1'].values     # Variable to test\n",
    "Z = data[['A_0', 'L_0', 'U_0', 'L_1']].values  # Conditioning set\n",
    "p_value, decision = kernel_conditional_independence_test(X, Y, Z, gamma=1.0)\n",
    "print(f\"Test 3 (Y_bar1 ⫫ A1 | A0, L0, U0, L1): p-value={p_value}, Reject CI={decision}\")\n"
   ],
   "id": "54a56d0e4b164834"
  },
  {
   "metadata": {},
   "cell_type": "code",
   "outputs": [],
   "execution_count": null,
   "source": [
    "# Test 4 whether Y^{\\bar{1}} is conditionally independent of A1 given A0, L0, L1\n",
    "Z_without_U = data[['A_0', 'L_0', 'L_1']].values  # Conditioning set without U0\n",
    "p_value, decision = kernel_conditional_independence_test(X, Y, Z_without_U, gamma=1.0)\n",
    "print(f\"Test 4 (Y_bar1 ⫫ A1 | A0, L0, L1): p-value={p_value}, Reject CI={decision}\")\n"
   ],
   "id": "83cc86ab106e6632"
  },
  {
   "metadata": {},
   "cell_type": "markdown",
   "source": "## 2. Compute population quantities\n",
   "id": "63443a99ff7430a6"
  },
  {
   "metadata": {
    "ExecuteTime": {
     "end_time": "2024-11-27T21:48:41.046396Z",
     "start_time": "2024-11-27T21:48:13.563645Z"
    }
   },
   "cell_type": "code",
   "source": [
    "# Restrict to certain subset, follow the math expression\n",
    "\n",
    "# Split the data into training and prediction sets\n",
    "train_data = data[:10000000]   # First 1000 rows for training\n",
    "predict_data = data[10000000:].copy() # Last 1000 rows for prediction\n",
    "\n",
    "# # Step 1: estimate b1_true and attach to predict_data\n",
    "# train_subset_a0a1 = train_data[(train_data['A_0'] == 1) & (train_data['A_1'] == 1)]\n",
    "# X_train1 = train_subset_a0a1[['L_0', 'L_1', 'U_0']]\n",
    "# Y_train1 = train_subset_a0a1['Y']\n",
    "# model1 = LinearRegression()\n",
    "# model1.fit(X_train1, Y_train1)\n",
    "# X_predict1 = predict_data[['L_0', 'L_1', 'U_0']]\n",
    "# predict_data = predict_data.copy()  # Create an explicit copy to avoid SettingWithCopyWarning\n",
    "# predict_data.loc[:, 'b1_true'] = model1.predict(X_predict1)  # Use .loc for explicit assignment\n",
    "\n",
    "# Step 1: get b1_true from the data generating process directly\n",
    "predict_data['b1_true'] = (params[\"Y_L0_coeff\"] * predict_data['L_0'] +\n",
    "                           params[\"Y_L1_coeff\"] * predict_data['L_1'] +\n",
    "                           params[\"Y_A0_coeff\"] * 1 +  # Set A0=1\n",
    "                           params[\"Y_A1_coeff\"] * 1 +  # Set A1=1\n",
    "                           params[\"Y_U0_coeff\"] * predict_data['U_0'])\n",
    "\n",
    "# Step 2: estimate b1_short and attach to predict_data\n",
    "train_subset_a0a1 = train_data[(train_data['A_0'] == 1) & (train_data['A_1'] == 1)]\n",
    "X_train2 = train_subset_a0a1[['L_0', 'L_1']]\n",
    "Y_train2 = train_subset_a0a1['Y']\n",
    "model2 = LinearRegression()\n",
    "model2.fit(X_train2, Y_train2)\n",
    "X_predict2 = predict_data[['L_0', 'L_1']]\n",
    "# No additional .copy() needed here as we already created one in Step 1\n",
    "predict_data.loc[:, 'b1_short'] = model2.predict(X_predict2)  # Use .loc for consistency\n",
    "\n",
    "# # Step 5: estimate pi1_true\n",
    "# train_subset_a0 = train_data[train_data['A_0'] == 1]\n",
    "# X_train5 = train_subset_a0[['L_0', 'L_1', 'U_0']]\n",
    "# Y_train5 = train_subset_a0['A_1']\n",
    "# model5 = LogisticRegression()\n",
    "# model5.fit(X_train5, Y_train5)\n",
    "# X_predict5 = predict_data[['L_0', 'L_1', 'U_0']]\n",
    "# predict_data.loc[:, 'pi1_true'] = model5.predict_proba(X_predict5)[:, 1]\n",
    "\n",
    "# Step 5: get pi1_true from the data generating process directly\n",
    "predict_data.loc[:, 'pi1_true'] = 1 / (1 + np.exp(-(params[\"A1_L1_coeff\"] * predict_data['L_1'] +\n",
    "                                            params[\"A1_A0_coeff\"] * 1 +  # Set A0 = 1\n",
    "                                            params[\"A1_L0_coeff\"] * predict_data['L_0'] +\n",
    "                                            params[\"A1_U0_coeff\"] * predict_data['U_0'])))\n",
    "\n",
    "# Step 6: estimate pi1_short\n",
    "train_subset_a0 = train_data[train_data['A_0'] == 1]\n",
    "X_train6 = train_subset_a0[['L_0', 'L_1']]\n",
    "Y_train6 = train_subset_a0['A_1']\n",
    "# model6 = LogisticRegression()\n",
    "# model6 = RandomForestClassifier(n_estimators=100, max_depth=None, random_state=43)  # Nonparametric model\n",
    "model6 = XGBClassifier(\n",
    "    n_estimators=100,     # Number of trees\n",
    "    max_depth=5,          # Maximum depth of a tree\n",
    "    learning_rate=0.1,    # Learning rate (eta)\n",
    "    subsample=0.8,        # Subsample ratio of training data\n",
    "    colsample_bytree=0.8, # Subsample ratio of columns when constructing each tree\n",
    "    random_state=43       # Random seed for reproducibility\n",
    ")\n",
    "model6.fit(X_train6, Y_train6)\n",
    "X_predict6 = predict_data[['L_0', 'L_1']]\n",
    "predict_data.loc[:, 'pi1_short'] = model6.predict_proba(X_predict6)[:, 1]\n",
    "\n",
    "# # Step 7: estimate pi0_true\n",
    "# X_train7 = train_data[['L_0', 'U_0']]\n",
    "# Y_train7 = train_data['A_0']\n",
    "# model7 = LogisticRegression()\n",
    "# model7.fit(X_train7, Y_train7)\n",
    "# X_predict7 = predict_data[['L_0', 'U_0']]\n",
    "# predict_data.loc[:, 'pi0_true'] = model7.predict_proba(X_predict7)[:, 1]\n",
    "\n",
    "# Step 7: get pi0_true from the data generating process directly\n",
    "predict_data.loc[:, 'pi0_true'] = 1 / (1 + np.exp(-(params[\"A0_L0_coeff\"] * predict_data['L_0'] +\n",
    "                                            params[\"A0_U0_coeff\"] * predict_data['U_0'])))\n",
    "\n",
    "# Step 8: estimate pi0_short\n",
    "X_train8 = train_data[['L_0']]\n",
    "Y_train8 = train_data['A_0']\n",
    "# model8 = LogisticRegression()\n",
    "# model8 = RandomForestClassifier(n_estimators=100, max_depth=None, random_state=43)  # Nonparametric model\n",
    "model8 = XGBClassifier(\n",
    "    n_estimators=100,     # Number of trees\n",
    "    max_depth=5,          # Maximum depth of a tree\n",
    "    learning_rate=0.1,    # Learning rate (eta)\n",
    "    subsample=0.8,        # Subsample ratio of training data\n",
    "    colsample_bytree=0.8, # Subsample ratio of columns when constructing each tree\n",
    "    random_state=43       # Random seed for reproducibility\n",
    ")\n",
    "model8.fit(X_train8, Y_train8)\n",
    "X_predict8 = predict_data[['L_0']]\n",
    "predict_data.loc[:, 'pi0_short'] = model8.predict_proba(X_predict8)[:, 1]\n",
    "\n",
    "# Step 3: estimate b0_true\n",
    "predict_train, predict_test = train_test_split(predict_data, test_size=0.5, random_state=42)\n",
    "predict_test = predict_test.copy()\n",
    "predict_train_subset = predict_train[predict_train['A_0'] == 1].copy()\n",
    "X_train3 = predict_train_subset[['L_0', 'U_0']]\n",
    "Y_train3 = predict_train_subset['b1_true']\n",
    "model3 = LinearRegression()\n",
    "model3.fit(X_train3, Y_train3)\n",
    "X_test3 = predict_test[['L_0', 'U_0']]\n",
    "predict_test.loc[:, 'b0_true'] = model3.predict(X_test3)  \n",
    "\n",
    "# Step 10: estimate ite_b1b0_short_true\n",
    "X_train10 = predict_train_subset[['L_0', 'U_0']]\n",
    "Y_train10 = predict_train_subset['b1_short']\n",
    "model10 = LinearRegression()\n",
    "model10.fit(X_train10, Y_train10)\n",
    "X_test10 = predict_test[['L_0', 'U_0']]\n",
    "predict_test.loc[:, 'ite_b1b0_short_true'] = model10.predict(X_test10)  \n",
    "\n",
    "# Step 4: estimate b0_short\n",
    "X_train4 = predict_train_subset[['L_0']]\n",
    "Y_train4 = predict_train_subset['b1_short']\n",
    "model4 = LinearRegression()\n",
    "model4.fit(X_train4, Y_train4)\n",
    "X_test4 = predict_test[['L_0']]\n",
    "predict_test.loc[:, 'b0_short'] = model4.predict(X_test4)"
   ],
   "id": "548fa83cd8f819b1",
   "outputs": [],
   "execution_count": 5
  },
  {
   "metadata": {
    "ExecuteTime": {
     "end_time": "2024-11-27T21:48:43.009615Z",
     "start_time": "2024-11-27T21:48:42.821643Z"
    }
   },
   "cell_type": "code",
   "source": [
    "# Compute important quantities \n",
    "a0pi0_short = predict_test['A_0'] / predict_test['pi0_short']\n",
    "a1pi1_short = predict_test['A_1'] / predict_test['pi1_short']\n",
    "a0pi0_true = predict_test['A_0'] / predict_test['pi0_true']\n",
    "a1pi1_true = predict_test['A_1'] / predict_test['pi1_true']\n",
    "\n",
    "diff_a0pi0 = a0pi0_true - a0pi0_short\n",
    "diff_a1pi1 = a1pi1_true - a1pi1_short\n",
    "\n",
    "diff_b0 = predict_test['b0_short'] - predict_test['b0_true']\n",
    "diff_b1 = predict_test['b1_short'] - predict_test['b1_true']\n"
   ],
   "id": "48c195bff0d71ae5",
   "outputs": [],
   "execution_count": 6
  },
  {
   "metadata": {},
   "cell_type": "markdown",
   "source": "### 2.1 Compute the population quantity of mean potential outcome under treatment path $\\bar{A} = \\bar{1}$ (1)\n",
   "id": "478fc51d05d8ea5b"
  },
  {
   "metadata": {
    "ExecuteTime": {
     "end_time": "2024-11-27T21:48:46.512705Z",
     "start_time": "2024-11-27T21:48:45.794912Z"
    }
   },
   "cell_type": "code",
   "source": [
    "mean_Y_bar1 = np.mean(Y_bar1)\n",
    "display(Math(r\"E[Y^{{\\bar{{1}}}}] = {:.4f}\".format(mean_Y_bar1)))"
   ],
   "id": "206c1c1e1f71ef4f",
   "outputs": [
    {
     "data": {
      "text/plain": [
       "<IPython.core.display.Math object>"
      ],
      "text/latex": "$\\displaystyle E[Y^{\\bar{1}}] = 1.5197$"
     },
     "metadata": {},
     "output_type": "display_data"
    }
   ],
   "execution_count": 7
  },
  {
   "metadata": {},
   "cell_type": "markdown",
   "source": [
    "### 2.2 Compute the population AIPW $\\psi$ based on (8)\n",
    "\n"
   ],
   "id": "2c9fc40a2cc7059c"
  },
  {
   "metadata": {
    "ExecuteTime": {
     "end_time": "2024-11-27T21:48:48.863308Z",
     "start_time": "2024-11-27T21:48:48.722351Z"
    }
   },
   "cell_type": "code",
   "source": [
    "# Calculate psi_true\n",
    "psi_true = np.mean(predict_test['b0_true'] - a0pi0_true * predict_test['b0_true']\n",
    "            - a0pi0_true * a1pi1_true * predict_test['b1_true']\n",
    "            + a0pi0_true * predict_test['b1_true']\n",
    "            + a0pi0_true * a1pi1_true * predict_test['Y'])\n",
    "\n",
    "display(Math(r\"\\psi = {:.4f}\".format(psi_true)))\n"
   ],
   "id": "509ecc40571f584c",
   "outputs": [
    {
     "data": {
      "text/plain": [
       "<IPython.core.display.Math object>"
      ],
      "text/latex": "$\\displaystyle \\psi = 1.5320$"
     },
     "metadata": {},
     "output_type": "display_data"
    }
   ],
   "execution_count": 8
  },
  {
   "metadata": {},
   "cell_type": "markdown",
   "source": "### 2.3 Compute the incorrect population AIPW $\\psi^*$ based on (11)",
   "id": "13c397d38725d66d"
  },
  {
   "metadata": {
    "ExecuteTime": {
     "end_time": "2024-11-27T21:48:50.963355Z",
     "start_time": "2024-11-27T21:48:50.847946Z"
    }
   },
   "cell_type": "code",
   "source": [
    "# Calculate psi_short\n",
    "psi_short = np.mean(predict_test['b0_short'] - a0pi0_short * predict_test['b0_short']\n",
    "            - a0pi0_short * a1pi1_short * predict_test['b1_short']\n",
    "            + a0pi0_short * predict_test['b1_short']\n",
    "            + a0pi0_short * a1pi1_short * predict_test['Y'])\n",
    "\n",
    "display(Math(r\"\\psi^* = {:.4f}\".format(psi_short)))\n"
   ],
   "id": "5bf39bb2770e7d9f",
   "outputs": [
    {
     "data": {
      "text/plain": [
       "<IPython.core.display.Math object>"
      ],
      "text/latex": "$\\displaystyle \\psi^* = 2.9970$"
     },
     "metadata": {},
     "output_type": "display_data"
    }
   ],
   "execution_count": 9
  },
  {
   "metadata": {},
   "cell_type": "markdown",
   "source": "### 2.4 Compute their difference $\\psi^*-\\psi$ as listed (12)",
   "id": "931c1c3dd50c089"
  },
  {
   "metadata": {
    "ExecuteTime": {
     "end_time": "2024-11-27T21:48:52.634063Z",
     "start_time": "2024-11-27T21:48:52.627560Z"
    }
   },
   "cell_type": "code",
   "source": [
    "diff_psi = psi_short - psi_true\n",
    "display(Math(r\"\\psi^* - \\psi = {:.4f}\".format(diff_psi)))\n"
   ],
   "id": "8161e3645ef8ab80",
   "outputs": [
    {
     "data": {
      "text/plain": [
       "<IPython.core.display.Math object>"
      ],
      "text/latex": "$\\displaystyle \\psi^* - \\psi = 1.4650$"
     },
     "metadata": {},
     "output_type": "display_data"
    }
   ],
   "execution_count": 10
  },
  {
   "metadata": {},
   "cell_type": "markdown",
   "source": "### 2.5 Compute the basic ovb based on equation (13)",
   "id": "182d0b603d6bf552"
  },
  {
   "metadata": {
    "ExecuteTime": {
     "end_time": "2024-11-27T21:48:54.449284Z",
     "start_time": "2024-11-27T21:48:54.349818Z"
    }
   },
   "cell_type": "code",
   "source": [
    "ovb_basic = np.mean(diff_b0 * diff_a0pi0 + a0pi0_short * diff_b1 * diff_a1pi1)\n",
    "print(f\"Basic OVB Formula = {ovb_basic:.4f}\")"
   ],
   "id": "c55443ccd6339b57",
   "outputs": [
    {
     "name": "stdout",
     "output_type": "stream",
     "text": [
      "Basic OVB Formula = 1.4809\n"
     ]
    }
   ],
   "execution_count": 11
  },
  {
   "metadata": {},
   "cell_type": "markdown",
   "source": "### 2.6 Compute simplified ovb based on equation (24), (25)",
   "id": "9f12e142ffc05411"
  },
  {
   "metadata": {
    "ExecuteTime": {
     "end_time": "2024-11-27T21:48:57.427781Z",
     "start_time": "2024-11-27T21:48:57.272482Z"
    }
   },
   "cell_type": "code",
   "source": [
    "K1 = np.mean((predict_test['b0_short']- predict_test['ite_b1b0_short_true']) * diff_a0pi0)\n",
    "K2 = np.mean((predict_test['ite_b1b0_short_true'] - predict_test['b0_true']) * diff_a0pi0)\n",
    "K3 = np.mean(diff_b1 * (a1pi1_true * a0pi0_true - a1pi1_short * a0pi0_short))\n",
    "K4 = np.mean(diff_b1 * a1pi1_true * (a0pi0_short - a0pi0_true))\n",
    "print(np.mean(a1pi1_true * a0pi0_true - a1pi1_short * a0pi0_short))\n",
    "\n",
    "sum_K2_K4 = K2 + K4\n",
    "sum_K1_K2_K3_K4 = K1 + K2 + K3 + K4\n",
    "sum_K1_K3 = K1 + K3\n",
    "sum_B1_B2 = K1 + K3\n",
    "print(f\"K2 + K4 = {sum_K2_K4:.4f}\")\n",
    "print(f\"K1 + K2 + K3 + K4 = {sum_K1_K2_K3_K4:.4f}\")\n",
    "print(f\"K1 + K3 = {sum_K1_K3:.4f}\")\n",
    "print(f\"B1 + B2 = {sum_B1_B2:.4f}\")\n"
   ],
   "id": "213116b79ac0f224",
   "outputs": [
    {
     "name": "stdout",
     "output_type": "stream",
     "text": [
      "0.006711132600146615\n",
      "K2 + K4 = -0.0147\n",
      "K1 + K2 + K3 + K4 = 1.4809\n",
      "K1 + K3 = 1.4957\n",
      "B1 + B2 = 1.4957\n"
     ]
    }
   ],
   "execution_count": 12
  },
  {
   "metadata": {},
   "cell_type": "markdown",
   "source": "### 2.7 Compute the ovb bound based on (14) together with (15)",
   "id": "e12f88ada573af3"
  },
  {
   "metadata": {
    "ExecuteTime": {
     "end_time": "2024-11-27T21:48:59.610372Z",
     "start_time": "2024-11-27T21:48:59.497064Z"
    }
   },
   "cell_type": "code",
   "source": [
    "# Compute upper bound of B1_square and B2_square\n",
    "B11_square = np.mean((predict_test['b0_short']- predict_test['ite_b1b0_short_true']) ** 2)\n",
    "B12_square = np.mean(diff_a0pi0 ** 2)\n",
    "B21_square = np.mean(diff_b1 ** 2)\n",
    "B22_square = np.mean((a1pi1_true * a0pi0_true - a1pi1_short * a0pi0_short) ** 2)\n",
    "print(B11_square, B12_square, B21_square, B22_square)  # variation 160.417 is huge \n",
    "print(np.mean(a1pi1_true * a0pi0_true - a1pi1_short * a0pi0_short))  # mean is 0.0068\n",
    "\n",
    "B1_square_ub = B11_square * B12_square\n",
    "B2_square_ub = B21_square * B22_square\n",
    "print(B1_square_ub, B2_square_ub)\n",
    "\n",
    "B1_ub = np.sqrt(B1_square_ub)\n",
    "B2_ub = np.sqrt(B2_square_ub)\n",
    "print(B1_ub, B2_ub)\n",
    "\n",
    "ovb_ub = B1_ub + B2_ub\n",
    "display(Math(r\"|\\psi^* - \\psi| \\le |B_1| + |B_2| \\le {:.4f}\".format(ovb_ub)))"
   ],
   "id": "d29d8adccb3cd2a5",
   "outputs": [
    {
     "name": "stdout",
     "output_type": "stream",
     "text": [
      "1.3784176603943141 3.8717872723137288 2.7471842990655495 160.41717014389346\n",
      "0.006711132600146615\n",
      "5.336939953447173 440.69553111983095\n",
      "2.3101818009514257 20.992749489283934\n"
     ]
    },
    {
     "data": {
      "text/plain": [
       "<IPython.core.display.Math object>"
      ],
      "text/latex": "$\\displaystyle |\\psi^* - \\psi| \\le |B_1| + |B_2| \\le 23.3029$"
     },
     "metadata": {},
     "output_type": "display_data"
    }
   ],
   "execution_count": 13
  },
  {
   "metadata": {},
   "cell_type": "markdown",
   "source": "### 2.8  Compute the ovb bound based on (14), (15), and (18).",
   "id": "e000f31fc3b29686"
  },
  {
   "metadata": {
    "ExecuteTime": {
     "end_time": "2024-11-27T21:49:02.413312Z",
     "start_time": "2024-11-27T21:49:02.153452Z"
    }
   },
   "cell_type": "code",
   "source": [
    "C1b1_square = (np.mean((predict_test['b0_short'] - predict_test['ite_b1b0_short_true']) ** 2) / \n",
    "               np.mean((predict_test['b1_short'] - predict_test['ite_b1b0_short_true']) ** 2))\n",
    "S1_square = np.mean((predict_test['b1_short'] - predict_test['ite_b1b0_short_true']) ** 2) * np.mean(a0pi0_short ** 2)\n",
    "Ca0_square = np.mean(diff_a0pi0 ** 2) / np.mean(a0pi0_short ** 2)\n",
    "\n",
    "C1b1_square_S1_square_Ca0_square = C1b1_square * S1_square * Ca0_square  # equals B1_square_ub \n",
    "\n",
    "\n",
    "Cy_square = np.mean(diff_b1 ** 2) / np.mean((predict_test['Y'] - predict_test['b1_short']) ** 2)\n",
    "S2_square = np.mean((predict_test['Y'] - predict_test['b1_short']) ** 2) * np.mean((a1pi1_short * a0pi0_short) ** 2)\n",
    "Ca0a1_square = (np.mean((a1pi1_true * a0pi0_true - a1pi1_short * a0pi0_short) ** 2) / \n",
    "                np.mean((a1pi1_short * a0pi0_short) ** 2))  # equals B2_square_ub\n",
    "\n",
    "Cy_square_S2_square_Ca0a1_square = Cy_square * S2_square * Ca0a1_square\n",
    "\n",
    "display(Math(r\"C_{{b_1^*}}^2 S_1^2 C_{{A_0}}^2 = {:.4f}\".format(C1b1_square_S1_square_Ca0_square)))\n",
    "display(Math(r\"C_{{Y}}^2 S_2^2 C_{{\\bar{{A}}}}^2 = {:.4f}\".format(Cy_square_S2_square_Ca0a1_square)))\n",
    "\n"
   ],
   "id": "d46e25b8c95fc5b5",
   "outputs": [
    {
     "data": {
      "text/plain": [
       "<IPython.core.display.Math object>"
      ],
      "text/latex": "$\\displaystyle C_{b_1^*}^2 S_1^2 C_{A_0}^2 = 5.3369$"
     },
     "metadata": {},
     "output_type": "display_data"
    },
    {
     "data": {
      "text/plain": [
       "<IPython.core.display.Math object>"
      ],
      "text/latex": "$\\displaystyle C_{Y}^2 S_2^2 C_{\\bar{A}}^2 = 440.6955$"
     },
     "metadata": {},
     "output_type": "display_data"
    }
   ],
   "execution_count": 14
  },
  {
   "metadata": {},
   "cell_type": "markdown",
   "source": "### 2.9 Summary table",
   "id": "cff74129ee680012"
  },
  {
   "metadata": {
    "ExecuteTime": {
     "end_time": "2024-11-27T21:49:07.973801Z",
     "start_time": "2024-11-27T21:49:07.967247Z"
    }
   },
   "cell_type": "code",
   "source": [
    "\n",
    "# Define the quantities to include in the summary table\n",
    "summary_data = {\n",
    "    \"Row Name\": [\n",
    "        r\"$\\mathbb{E}[Y^{\\bar{1}}]$\",\n",
    "        r\"$\\psi$\",\n",
    "        r\"$\\psi^*$\",\n",
    "        r\"$\\psi^* - \\psi$\",\n",
    "        r\"Basic OVB\",\n",
    "        r\"$B_1 + B_2$\",\n",
    "        r\"$|\\psi^* - \\psi| \\leq |B_1| + |B_2| \\leq (C_{{b_1^*}}^2 S_1^2 C_{{A_0}}^2)^{1/2} + (C_{{Y}}^2 S_2^2 C_{{\\bar{{A}}}}^2)^{1/2}$\"\n",
    "    ],\n",
    "    \"Value\": [\n",
    "        mean_Y_bar1,  \n",
    "        psi_true,  \n",
    "        psi_short,  \n",
    "        diff_psi,  \n",
    "        ovb_basic,  \n",
    "        sum_B1_B2,  \n",
    "        ovb_ub  \n",
    "    ]\n",
    "}\n",
    "\n",
    "# Create the table header with spacing\n",
    "markdown_table = \"| Row Name                              | Value     |\\n\"\n",
    "markdown_table += \"|---------------------------------------|-----------|\\n\"\n",
    "\n",
    "# Add each row to the table with better spacing\n",
    "for name, value in zip(summary_data[\"Row Name\"], summary_data[\"Value\"]):\n",
    "    markdown_table += f\"| {name}                                | {value:.6f} |\\n\"\n",
    "\n",
    "# Display the formatted table\n",
    "display(Markdown(markdown_table))\n"
   ],
   "id": "cef037a5e90b05f4",
   "outputs": [
    {
     "data": {
      "text/plain": [
       "<IPython.core.display.Markdown object>"
      ],
      "text/markdown": "| Row Name                              | Value     |\n|---------------------------------------|-----------|\n| $\\mathbb{E}[Y^{\\bar{1}}]$                                | 1.519690 |\n| $\\psi$                                | 1.532026 |\n| $\\psi^*$                                | 2.997007 |\n| $\\psi^* - \\psi$                                | 1.464980 |\n| Basic OVB                                | 1.480941 |\n| $B_1 + B_2$                                | 1.495686 |\n| $|\\psi^* - \\psi| \\leq |B_1| + |B_2| \\leq (C_{{b_1^*}}^2 S_1^2 C_{{A_0}}^2)^{1/2} + (C_{{Y}}^2 S_2^2 C_{{\\bar{{A}}}}^2)^{1/2}$                                | 23.302931 |\n"
     },
     "metadata": {},
     "output_type": "display_data"
    }
   ],
   "execution_count": 16
  }
 ],
 "metadata": {
  "kernelspec": {
   "display_name": "Python 3",
   "language": "python",
   "name": "python3"
  },
  "language_info": {
   "codemirror_mode": {
    "name": "ipython",
    "version": 2
   },
   "file_extension": ".py",
   "mimetype": "text/x-python",
   "name": "python",
   "nbconvert_exporter": "python",
   "pygments_lexer": "ipython2",
   "version": "2.7.6"
  }
 },
 "nbformat": 4,
 "nbformat_minor": 5
}
