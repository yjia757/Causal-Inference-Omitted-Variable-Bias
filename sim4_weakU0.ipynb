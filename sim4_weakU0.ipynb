{
 "cells": [
  {
   "metadata": {
    "ExecuteTime": {
     "end_time": "2024-11-27T21:50:52.498180Z",
     "start_time": "2024-11-27T21:50:51.688308Z"
    }
   },
   "cell_type": "code",
   "source": [
    "import numpy as np\n",
    "import pandas as pd\n",
    "from sklearn.linear_model import LinearRegression, LogisticRegression\n",
    "from xgboost import XGBRegressor, XGBClassifier\n",
    "from sklearn.metrics import roc_auc_score\n",
    "from sklearn.metrics.pairwise import rbf_kernel\n",
    "from scipy.stats import pearsonr\n",
    "from IPython.display import display, Math, Markdown\n",
    "from sklearn.model_selection import train_test_split\n"
   ],
   "id": "2573776a88f1b0bc",
   "outputs": [],
   "execution_count": 1
  },
  {
   "metadata": {},
   "cell_type": "markdown",
   "source": [
    "## 0. Introduction\n",
    "\n",
    "Simulations in this document are for the approach outlined in draft 3.1. We generate data under settings such that sequential conditional exchangeability assumption holds with full set of covariates. We compute the population quantity of mean potential outcome under treatment path $\\bar{A} = \\bar{1}$ (1), the population AIPW $\\psi$ based on (8), the incorrect population AIPW $\\psi^*$ based on (11), their difference $\\psi^*-\\psi$ as listed (12). Moreover, we compute the basic ovb based on equation (13), simplified ovb based on equation (24),  the ovb bound based on (14) together with (15), and the ovb bound based on (14), (15), and (18).\n",
    "\n",
    "## 1. Data Generating \n",
    "\n",
    "### 1.1 Description\n",
    "\n",
    "\\begin{align*}\n",
    "U_0 &\\sim \\mathcal{N}(0, \\sigma_{U_0}^2), \\\\[1em]\n",
    "L_0 &= \\beta_{L_0|U_0} U_0 + \\epsilon_{L_0}, \\quad \\epsilon_{L_0} \\sim \\mathcal{N}(0, \\sigma_{L_0}^2), \\\\[1em]\n",
    "P(A_0 = 1 \\mid L_0 = \\ell_0, U_0 = u_0) &= \\left[1 + \\exp\\{- (\\beta_{A_0|L_0} \\ell_0 + \\beta_{A_0|U_0} u_0)\\}\\right]^{-1}, \\\\[1em]\n",
    "L_1 &= \\beta_{L_1|L_0} L_0 + \\beta_{L_1|A_0} A_0 + \\beta_{L_1|U_0} U_0 + \\epsilon_{L_1}, \\quad \\epsilon_{L_1} \\sim \\mathcal{N}(0, \\sigma_{L_1}^2), \\\\[1em]\n",
    "P(A_1 = 1 \\mid L_0 = \\ell_0, L_1 = \\ell_1, A_0 = a_0, U_0 = u_0) &= \\left[1 + \\exp\\{- (\\beta_{A_1|L_1} \\ell_1 + \\beta_{A_1|A_0} a_0 + \\beta_{A_1|L_0} \\ell_0 + \\beta_{A_1|U_0} u_0)\\}\\right]^{-1}, \\\\[1em]\n",
    "Y &= \\gamma_{Y|L_0} L_0 + \\gamma_{Y|L_1} L_1 + \\gamma_{Y|A_0} A_0 + \\gamma_{Y|A_1} A_1 + \\gamma_{Y|U_0} U_0 + \\epsilon_Y, \\quad \\epsilon_Y \\sim \\mathcal{N}(0, \\sigma_Y^2).\n",
    "\\end{align*}\n",
    "\n",
    "\\begin{align*}\n",
    "\\beta_{L0} &= (\\beta_{L_0|U_0} ) = 0.1, \\\\\n",
    "\\beta_{A_0} &= (\\beta_{A_0|L_0}, \\beta_{A_0|U_0}) = (0.5, 0.3),\\\\\n",
    "\\beta_{L_1} &= (\\beta_{L_1|L_0}, \\beta_{L_1|A_0}, \\beta_{L_1|U_0}) = (0.6, 0.4, 0.2), \\\\\n",
    "\\beta_{A_1} &= (\\beta_{A_1|L_1}, \\beta_{A_1|A_0}, \\beta_{A_1|L_0}, \\beta_{A_1|U_0}) = (0.4, 0.2, 0.3, 0.2), \\\\\n",
    "\\gamma_{Y} &= (\\gamma_{Y|L_0}, \\gamma_{Y|L_1} L_1, \\gamma_{Y|A_0} A_0,  \\gamma_{Y|A_1} , \\gamma_{Y|U_0} ) = (1.2, 0.8, 0.5, 0.7, 0.5),\\\\\n",
    "\\sigma_{U_0} &= 1,\\\\\n",
    "\\sigma_{L_0} &= 1,\\\\\n",
    "\\sigma_{L_1} &= 1,\\\\\n",
    "\\sigma_Y &= 1.\n",
    "\\end{align*}\n",
    "\n"
   ],
   "id": "f7f584865ffc9462"
  },
  {
   "metadata": {
    "ExecuteTime": {
     "end_time": "2024-11-27T21:50:58.762260Z",
     "start_time": "2024-11-27T21:50:54.348779Z"
    }
   },
   "cell_type": "code",
   "source": [
    "# Setting seed\n",
    "np.random.seed(43)\n",
    "\n",
    "# Large sample size\n",
    "n = 20000000\n",
    "\n",
    "# Define parameters for the data-generating process\n",
    "params = {\n",
    "    \"U0_std\": 1.0,          # Standard deviation for U_0\n",
    "    \"L0_U0_coeff\": 0.1,     # Reduced coefficient for U_0 in L_0 <--\n",
    "    \"L0_noise_std\": 1.0,    # Standard deviation for noise in L_0\n",
    "    \"A0_L0_coeff\": 0.5,     # Coefficient for L_0 in A_0\n",
    "    \"A0_U0_coeff\": 0.3,     # Reduced coefficient for U_0 in A_0 <--\n",
    "    \"L1_L0_coeff\": 0.6,     # Coefficient for L_0 in L_1\n",
    "    \"L1_A0_coeff\": 0.4,     # Coefficient for A_0 in L_1\n",
    "    \"L1_U0_coeff\": 0.2,     # Reduced coefficient for U_0 in L_1 <--\n",
    "    \"L1_noise_std\": 1.0,    # Standard deviation for noise in L_1\n",
    "    \"A1_L1_coeff\": 0.4,     # Coefficient for L_1 in A_1\n",
    "    \"A1_A0_coeff\": 0.2,     # Coefficient for A_0 in A_1\n",
    "    \"A1_L0_coeff\": 0.3,     # Coefficient for L_0 in A_1\n",
    "    \"A1_U0_coeff\": 0.2,     # Reduced coefficient for U_0 in A_1 <--\n",
    "    \"Y_L0_coeff\": 1.2,      # Coefficient for L_0 in Y\n",
    "    \"Y_L1_coeff\": 0.8,      # Coefficient for L_1 in Y\n",
    "    \"Y_A0_coeff\": 0.5,      # Coefficient for A_0 in Y\n",
    "    \"Y_A1_coeff\": 0.7,      # Coefficient for A_1 in Y\n",
    "    \"Y_U0_coeff\": 0.5,      # Reduced coefficient for U_0 in Y <--\n",
    "    \"Y_noise_std\": 1.0      # Standard deviation for noise in Y\n",
    "}\n",
    "\n",
    "# Step 1: Generate U0 (baseline unobserved covariates)\n",
    "U_0 = np.random.normal(0, params[\"U0_std\"], n)  # U_0 ~ Normal(0, std)\n",
    "\n",
    "# Step 2: Generate L0 (baseline observed covariates) as a function of U0\n",
    "L_0 = params[\"L0_U0_coeff\"] * U_0 + np.random.normal(0, params[\"L0_noise_std\"], n)\n",
    "\n",
    "# Step 3: Generate A0 (treatment at time 0) based on L0 and U0\n",
    "p_A0 = 1 / (1 + np.exp(-(params[\"A0_L0_coeff\"] * L_0 + params[\"A0_U0_coeff\"] * U_0)))\n",
    "A_0 = np.random.binomial(1, p_A0, n)\n",
    "\n",
    "# Step 4: Generate L1 (covariates at time 1) based on L0, U0, and A0\n",
    "L_1 = (params[\"L1_L0_coeff\"] * L_0 +\n",
    "       params[\"L1_A0_coeff\"] * A_0 +\n",
    "       params[\"L1_U0_coeff\"] * U_0 +\n",
    "       np.random.normal(0, params[\"L1_noise_std\"], n))\n",
    "\n",
    "# Step 5: Generate A1 (treatment at time 1) based on L0, U0, L1, and A0\n",
    "p_A1 = 1 / (1 + np.exp(-(params[\"A1_L1_coeff\"] * L_1 +\n",
    "                        params[\"A1_A0_coeff\"] * A_0 +\n",
    "                        params[\"A1_L0_coeff\"] * L_0 +\n",
    "                        params[\"A1_U0_coeff\"] * U_0)))\n",
    "A_1 = np.random.binomial(1, p_A1, n)\n",
    "\n",
    "# Step 6: Generate observed outcome Y based on L0, U0, A0, A1, and L1\n",
    "Y = (params[\"Y_L0_coeff\"] * L_0 +\n",
    "     params[\"Y_L1_coeff\"] * L_1 +\n",
    "     params[\"Y_A0_coeff\"] * A_0 +\n",
    "     params[\"Y_A1_coeff\"] * A_1 +\n",
    "     params[\"Y_U0_coeff\"] * U_0 +\n",
    "     np.random.normal(0, params[\"Y_noise_std\"], n))\n"
   ],
   "id": "e3665149d4945288",
   "outputs": [],
   "execution_count": 2
  },
  {
   "metadata": {
    "ExecuteTime": {
     "end_time": "2024-11-27T21:51:02.185040Z",
     "start_time": "2024-11-27T21:51:00.613314Z"
    }
   },
   "cell_type": "code",
   "source": [
    "# Step 7: Regenerate L1 under the intervention A0=1\n",
    "# L1_bar1: covariates at time 1 assuming A0=1\n",
    "L1_bar1 = (params[\"L1_L0_coeff\"] * L_0 +\n",
    "           params[\"L1_A0_coeff\"] * 1 +  # Intervention A0=1\n",
    "           params[\"L1_U0_coeff\"] * U_0 +\n",
    "           np.random.normal(0, params[\"L1_noise_std\"], n))\n",
    "\n",
    "# Y_bar1: potential outcome under treatment path (A0=1, A1=1)\n",
    "Y_bar1 = (params[\"Y_L0_coeff\"] * L_0 +\n",
    "          params[\"Y_L1_coeff\"] * L1_bar1 +\n",
    "          params[\"Y_A0_coeff\"] * 1 +  # Intervention A0=1\n",
    "          params[\"Y_A1_coeff\"] * 1 +  # Intervention A1=1\n",
    "          params[\"Y_U0_coeff\"] * U_0 +\n",
    "          np.random.normal(0, params[\"Y_noise_std\"], n))"
   ],
   "id": "5147bd48de7298ba",
   "outputs": [],
   "execution_count": 3
  },
  {
   "metadata": {
    "ExecuteTime": {
     "end_time": "2024-11-27T21:51:05.754287Z",
     "start_time": "2024-11-27T21:51:03.375769Z"
    }
   },
   "cell_type": "code",
   "source": [
    "# Combine data into a DataFrame\n",
    "data = pd.DataFrame({\n",
    "    \"L_0\": L_0,\n",
    "    \"U_0\": U_0,\n",
    "    \"A_0\": A_0,\n",
    "    \"L_1\": L_1,\n",
    "    \"A_1\": A_1,\n",
    "    \"Y\": Y,\n",
    "    \"L1_bar1\": L1_bar1,\n",
    "    \"Y_bar1\": Y_bar1\n",
    "})\n",
    "\n",
    "print(data.shape)"
   ],
   "id": "dbcad9c24d5902fa",
   "outputs": [
    {
     "name": "stdout",
     "output_type": "stream",
     "text": [
      "(20000000, 8)\n"
     ]
    }
   ],
   "execution_count": 4
  },
  {
   "metadata": {},
   "cell_type": "markdown",
   "source": [
    "\n",
    "### 1.2 Check sequential conditional exchangeability holds with full set of covariates via ROC AUC"
   ],
   "id": "dfd346a8854f780d"
  },
  {
   "metadata": {
    "ExecuteTime": {
     "end_time": "2024-11-27T21:34:31.882530Z",
     "start_time": "2024-11-27T21:34:31.876127Z"
    }
   },
   "cell_type": "code",
   "source": [
    "# Exploratory Checks Using ROC AUC via prediction model XGBoost \n",
    "def roc_aud_conditional_independence_test(X, y, additional_var=None):\n",
    "    \"\"\"Test conditional independence using XGBoost and ROC AUC.\"\"\"\n",
    "    model = XGBClassifier(eval_metric=\"logloss\")\n",
    "    model.fit(X, y)\n",
    "    baseline_roc_auc = roc_auc_score(y, model.predict_proba(X)[:, 1])\n",
    "\n",
    "    if additional_var is not None:\n",
    "        X_with_additional = np.column_stack((X, additional_var))\n",
    "        model_with_additional = XGBClassifier(eval_metric=\"logloss\")\n",
    "        model_with_additional.fit(X_with_additional, y)\n",
    "        additional_roc_auc = roc_auc_score(y, model_with_additional.predict_proba(X_with_additional)[:, 1])\n",
    "        return baseline_roc_auc, additional_roc_auc\n",
    "    else:\n",
    "        return baseline_roc_auc\n",
    "\n"
   ],
   "id": "62cd5ee5abc145e1",
   "outputs": [],
   "execution_count": 5
  },
  {
   "metadata": {
    "ExecuteTime": {
     "end_time": "2024-11-27T21:35:34.249025Z",
     "start_time": "2024-11-27T21:34:34.926644Z"
    }
   },
   "cell_type": "code",
   "source": [
    "# Test 1: Y^{\\bar{1}} ⫫ A0 | L0, U0\n",
    "X = data[['L_0', 'U_0']].values\n",
    "y = data['A_0'].values\n",
    "baseline_auc, auc_with_y = roc_aud_conditional_independence_test(X, y, data['Y_bar1'].values)\n",
    "print(f\"Test 1 (with U0): Baseline AUC={baseline_auc}, AUC with Y_bar1={auc_with_y}\")\n"
   ],
   "id": "c3b34f66198f7f42",
   "outputs": [
    {
     "ename": "KeyboardInterrupt",
     "evalue": "",
     "output_type": "error",
     "traceback": [
      "\u001B[0;31m---------------------------------------------------------------------------\u001B[0m",
      "\u001B[0;31mKeyboardInterrupt\u001B[0m                         Traceback (most recent call last)",
      "Cell \u001B[0;32mIn[6], line 4\u001B[0m\n\u001B[1;32m      2\u001B[0m X \u001B[38;5;241m=\u001B[39m data[[\u001B[38;5;124m'\u001B[39m\u001B[38;5;124mL_0\u001B[39m\u001B[38;5;124m'\u001B[39m, \u001B[38;5;124m'\u001B[39m\u001B[38;5;124mU_0\u001B[39m\u001B[38;5;124m'\u001B[39m]]\u001B[38;5;241m.\u001B[39mvalues\n\u001B[1;32m      3\u001B[0m y \u001B[38;5;241m=\u001B[39m data[\u001B[38;5;124m'\u001B[39m\u001B[38;5;124mA_0\u001B[39m\u001B[38;5;124m'\u001B[39m]\u001B[38;5;241m.\u001B[39mvalues\n\u001B[0;32m----> 4\u001B[0m baseline_auc, auc_with_y \u001B[38;5;241m=\u001B[39m \u001B[43mroc_aud_conditional_independence_test\u001B[49m\u001B[43m(\u001B[49m\u001B[43mX\u001B[49m\u001B[43m,\u001B[49m\u001B[43m \u001B[49m\u001B[43my\u001B[49m\u001B[43m,\u001B[49m\u001B[43m \u001B[49m\u001B[43mdata\u001B[49m\u001B[43m[\u001B[49m\u001B[38;5;124;43m'\u001B[39;49m\u001B[38;5;124;43mY_bar1\u001B[39;49m\u001B[38;5;124;43m'\u001B[39;49m\u001B[43m]\u001B[49m\u001B[38;5;241;43m.\u001B[39;49m\u001B[43mvalues\u001B[49m\u001B[43m)\u001B[49m\n\u001B[1;32m      5\u001B[0m \u001B[38;5;28mprint\u001B[39m(\u001B[38;5;124mf\u001B[39m\u001B[38;5;124m\"\u001B[39m\u001B[38;5;124mTest 1 (with U0): Baseline AUC=\u001B[39m\u001B[38;5;132;01m{\u001B[39;00mbaseline_auc\u001B[38;5;132;01m}\u001B[39;00m\u001B[38;5;124m, AUC with Y_bar1=\u001B[39m\u001B[38;5;132;01m{\u001B[39;00mauc_with_y\u001B[38;5;132;01m}\u001B[39;00m\u001B[38;5;124m\"\u001B[39m)\n",
      "Cell \u001B[0;32mIn[5], line 11\u001B[0m, in \u001B[0;36mroc_aud_conditional_independence_test\u001B[0;34m(X, y, additional_var)\u001B[0m\n\u001B[1;32m      9\u001B[0m X_with_additional \u001B[38;5;241m=\u001B[39m np\u001B[38;5;241m.\u001B[39mcolumn_stack((X, additional_var))\n\u001B[1;32m     10\u001B[0m model_with_additional \u001B[38;5;241m=\u001B[39m XGBClassifier(eval_metric\u001B[38;5;241m=\u001B[39m\u001B[38;5;124m\"\u001B[39m\u001B[38;5;124mlogloss\u001B[39m\u001B[38;5;124m\"\u001B[39m)\n\u001B[0;32m---> 11\u001B[0m \u001B[43mmodel_with_additional\u001B[49m\u001B[38;5;241;43m.\u001B[39;49m\u001B[43mfit\u001B[49m\u001B[43m(\u001B[49m\u001B[43mX_with_additional\u001B[49m\u001B[43m,\u001B[49m\u001B[43m \u001B[49m\u001B[43my\u001B[49m\u001B[43m)\u001B[49m\n\u001B[1;32m     12\u001B[0m additional_roc_auc \u001B[38;5;241m=\u001B[39m roc_auc_score(y, model_with_additional\u001B[38;5;241m.\u001B[39mpredict_proba(X_with_additional)[:, \u001B[38;5;241m1\u001B[39m])\n\u001B[1;32m     13\u001B[0m \u001B[38;5;28;01mreturn\u001B[39;00m baseline_roc_auc, additional_roc_auc\n",
      "File \u001B[0;32m/opt/anaconda3/envs/ucsd1/lib/python3.9/site-packages/xgboost/core.py:726\u001B[0m, in \u001B[0;36mrequire_keyword_args.<locals>.throw_if.<locals>.inner_f\u001B[0;34m(*args, **kwargs)\u001B[0m\n\u001B[1;32m    724\u001B[0m \u001B[38;5;28;01mfor\u001B[39;00m k, arg \u001B[38;5;129;01min\u001B[39;00m \u001B[38;5;28mzip\u001B[39m(sig\u001B[38;5;241m.\u001B[39mparameters, args):\n\u001B[1;32m    725\u001B[0m     kwargs[k] \u001B[38;5;241m=\u001B[39m arg\n\u001B[0;32m--> 726\u001B[0m \u001B[38;5;28;01mreturn\u001B[39;00m \u001B[43mfunc\u001B[49m\u001B[43m(\u001B[49m\u001B[38;5;241;43m*\u001B[39;49m\u001B[38;5;241;43m*\u001B[39;49m\u001B[43mkwargs\u001B[49m\u001B[43m)\u001B[49m\n",
      "File \u001B[0;32m/opt/anaconda3/envs/ucsd1/lib/python3.9/site-packages/xgboost/sklearn.py:1531\u001B[0m, in \u001B[0;36mXGBClassifier.fit\u001B[0;34m(self, X, y, sample_weight, base_margin, eval_set, verbose, xgb_model, sample_weight_eval_set, base_margin_eval_set, feature_weights)\u001B[0m\n\u001B[1;32m   1511\u001B[0m model, metric, params \u001B[38;5;241m=\u001B[39m \u001B[38;5;28mself\u001B[39m\u001B[38;5;241m.\u001B[39m_configure_fit(xgb_model, params)\n\u001B[1;32m   1512\u001B[0m train_dmatrix, evals \u001B[38;5;241m=\u001B[39m _wrap_evaluation_matrices(\n\u001B[1;32m   1513\u001B[0m     missing\u001B[38;5;241m=\u001B[39m\u001B[38;5;28mself\u001B[39m\u001B[38;5;241m.\u001B[39mmissing,\n\u001B[1;32m   1514\u001B[0m     X\u001B[38;5;241m=\u001B[39mX,\n\u001B[0;32m   (...)\u001B[0m\n\u001B[1;32m   1528\u001B[0m     feature_types\u001B[38;5;241m=\u001B[39m\u001B[38;5;28mself\u001B[39m\u001B[38;5;241m.\u001B[39mfeature_types,\n\u001B[1;32m   1529\u001B[0m )\n\u001B[0;32m-> 1531\u001B[0m \u001B[38;5;28mself\u001B[39m\u001B[38;5;241m.\u001B[39m_Booster \u001B[38;5;241m=\u001B[39m \u001B[43mtrain\u001B[49m\u001B[43m(\u001B[49m\n\u001B[1;32m   1532\u001B[0m \u001B[43m    \u001B[49m\u001B[43mparams\u001B[49m\u001B[43m,\u001B[49m\n\u001B[1;32m   1533\u001B[0m \u001B[43m    \u001B[49m\u001B[43mtrain_dmatrix\u001B[49m\u001B[43m,\u001B[49m\n\u001B[1;32m   1534\u001B[0m \u001B[43m    \u001B[49m\u001B[38;5;28;43mself\u001B[39;49m\u001B[38;5;241;43m.\u001B[39;49m\u001B[43mget_num_boosting_rounds\u001B[49m\u001B[43m(\u001B[49m\u001B[43m)\u001B[49m\u001B[43m,\u001B[49m\n\u001B[1;32m   1535\u001B[0m \u001B[43m    \u001B[49m\u001B[43mevals\u001B[49m\u001B[38;5;241;43m=\u001B[39;49m\u001B[43mevals\u001B[49m\u001B[43m,\u001B[49m\n\u001B[1;32m   1536\u001B[0m \u001B[43m    \u001B[49m\u001B[43mearly_stopping_rounds\u001B[49m\u001B[38;5;241;43m=\u001B[39;49m\u001B[38;5;28;43mself\u001B[39;49m\u001B[38;5;241;43m.\u001B[39;49m\u001B[43mearly_stopping_rounds\u001B[49m\u001B[43m,\u001B[49m\n\u001B[1;32m   1537\u001B[0m \u001B[43m    \u001B[49m\u001B[43mevals_result\u001B[49m\u001B[38;5;241;43m=\u001B[39;49m\u001B[43mevals_result\u001B[49m\u001B[43m,\u001B[49m\n\u001B[1;32m   1538\u001B[0m \u001B[43m    \u001B[49m\u001B[43mobj\u001B[49m\u001B[38;5;241;43m=\u001B[39;49m\u001B[43mobj\u001B[49m\u001B[43m,\u001B[49m\n\u001B[1;32m   1539\u001B[0m \u001B[43m    \u001B[49m\u001B[43mcustom_metric\u001B[49m\u001B[38;5;241;43m=\u001B[39;49m\u001B[43mmetric\u001B[49m\u001B[43m,\u001B[49m\n\u001B[1;32m   1540\u001B[0m \u001B[43m    \u001B[49m\u001B[43mverbose_eval\u001B[49m\u001B[38;5;241;43m=\u001B[39;49m\u001B[43mverbose\u001B[49m\u001B[43m,\u001B[49m\n\u001B[1;32m   1541\u001B[0m \u001B[43m    \u001B[49m\u001B[43mxgb_model\u001B[49m\u001B[38;5;241;43m=\u001B[39;49m\u001B[43mmodel\u001B[49m\u001B[43m,\u001B[49m\n\u001B[1;32m   1542\u001B[0m \u001B[43m    \u001B[49m\u001B[43mcallbacks\u001B[49m\u001B[38;5;241;43m=\u001B[39;49m\u001B[38;5;28;43mself\u001B[39;49m\u001B[38;5;241;43m.\u001B[39;49m\u001B[43mcallbacks\u001B[49m\u001B[43m,\u001B[49m\n\u001B[1;32m   1543\u001B[0m \u001B[43m\u001B[49m\u001B[43m)\u001B[49m\n\u001B[1;32m   1545\u001B[0m \u001B[38;5;28;01mif\u001B[39;00m \u001B[38;5;129;01mnot\u001B[39;00m \u001B[38;5;28mcallable\u001B[39m(\u001B[38;5;28mself\u001B[39m\u001B[38;5;241m.\u001B[39mobjective):\n\u001B[1;32m   1546\u001B[0m     \u001B[38;5;28mself\u001B[39m\u001B[38;5;241m.\u001B[39mobjective \u001B[38;5;241m=\u001B[39m params[\u001B[38;5;124m\"\u001B[39m\u001B[38;5;124mobjective\u001B[39m\u001B[38;5;124m\"\u001B[39m]\n",
      "File \u001B[0;32m/opt/anaconda3/envs/ucsd1/lib/python3.9/site-packages/xgboost/core.py:726\u001B[0m, in \u001B[0;36mrequire_keyword_args.<locals>.throw_if.<locals>.inner_f\u001B[0;34m(*args, **kwargs)\u001B[0m\n\u001B[1;32m    724\u001B[0m \u001B[38;5;28;01mfor\u001B[39;00m k, arg \u001B[38;5;129;01min\u001B[39;00m \u001B[38;5;28mzip\u001B[39m(sig\u001B[38;5;241m.\u001B[39mparameters, args):\n\u001B[1;32m    725\u001B[0m     kwargs[k] \u001B[38;5;241m=\u001B[39m arg\n\u001B[0;32m--> 726\u001B[0m \u001B[38;5;28;01mreturn\u001B[39;00m \u001B[43mfunc\u001B[49m\u001B[43m(\u001B[49m\u001B[38;5;241;43m*\u001B[39;49m\u001B[38;5;241;43m*\u001B[39;49m\u001B[43mkwargs\u001B[49m\u001B[43m)\u001B[49m\n",
      "File \u001B[0;32m/opt/anaconda3/envs/ucsd1/lib/python3.9/site-packages/xgboost/training.py:181\u001B[0m, in \u001B[0;36mtrain\u001B[0;34m(params, dtrain, num_boost_round, evals, obj, feval, maximize, early_stopping_rounds, evals_result, verbose_eval, xgb_model, callbacks, custom_metric)\u001B[0m\n\u001B[1;32m    179\u001B[0m \u001B[38;5;28;01mif\u001B[39;00m cb_container\u001B[38;5;241m.\u001B[39mbefore_iteration(bst, i, dtrain, evals):\n\u001B[1;32m    180\u001B[0m     \u001B[38;5;28;01mbreak\u001B[39;00m\n\u001B[0;32m--> 181\u001B[0m \u001B[43mbst\u001B[49m\u001B[38;5;241;43m.\u001B[39;49m\u001B[43mupdate\u001B[49m\u001B[43m(\u001B[49m\u001B[43mdtrain\u001B[49m\u001B[43m,\u001B[49m\u001B[43m \u001B[49m\u001B[43miteration\u001B[49m\u001B[38;5;241;43m=\u001B[39;49m\u001B[43mi\u001B[49m\u001B[43m,\u001B[49m\u001B[43m \u001B[49m\u001B[43mfobj\u001B[49m\u001B[38;5;241;43m=\u001B[39;49m\u001B[43mobj\u001B[49m\u001B[43m)\u001B[49m\n\u001B[1;32m    182\u001B[0m \u001B[38;5;28;01mif\u001B[39;00m cb_container\u001B[38;5;241m.\u001B[39mafter_iteration(bst, i, dtrain, evals):\n\u001B[1;32m    183\u001B[0m     \u001B[38;5;28;01mbreak\u001B[39;00m\n",
      "File \u001B[0;32m/opt/anaconda3/envs/ucsd1/lib/python3.9/site-packages/xgboost/core.py:2101\u001B[0m, in \u001B[0;36mBooster.update\u001B[0;34m(self, dtrain, iteration, fobj)\u001B[0m\n\u001B[1;32m   2097\u001B[0m \u001B[38;5;28mself\u001B[39m\u001B[38;5;241m.\u001B[39m_assign_dmatrix_features(dtrain)\n\u001B[1;32m   2099\u001B[0m \u001B[38;5;28;01mif\u001B[39;00m fobj \u001B[38;5;129;01mis\u001B[39;00m \u001B[38;5;28;01mNone\u001B[39;00m:\n\u001B[1;32m   2100\u001B[0m     _check_call(\n\u001B[0;32m-> 2101\u001B[0m         \u001B[43m_LIB\u001B[49m\u001B[38;5;241;43m.\u001B[39;49m\u001B[43mXGBoosterUpdateOneIter\u001B[49m\u001B[43m(\u001B[49m\n\u001B[1;32m   2102\u001B[0m \u001B[43m            \u001B[49m\u001B[38;5;28;43mself\u001B[39;49m\u001B[38;5;241;43m.\u001B[39;49m\u001B[43mhandle\u001B[49m\u001B[43m,\u001B[49m\u001B[43m \u001B[49m\u001B[43mctypes\u001B[49m\u001B[38;5;241;43m.\u001B[39;49m\u001B[43mc_int\u001B[49m\u001B[43m(\u001B[49m\u001B[43miteration\u001B[49m\u001B[43m)\u001B[49m\u001B[43m,\u001B[49m\u001B[43m \u001B[49m\u001B[43mdtrain\u001B[49m\u001B[38;5;241;43m.\u001B[39;49m\u001B[43mhandle\u001B[49m\n\u001B[1;32m   2103\u001B[0m \u001B[43m        \u001B[49m\u001B[43m)\u001B[49m\n\u001B[1;32m   2104\u001B[0m     )\n\u001B[1;32m   2105\u001B[0m \u001B[38;5;28;01melse\u001B[39;00m:\n\u001B[1;32m   2106\u001B[0m     pred \u001B[38;5;241m=\u001B[39m \u001B[38;5;28mself\u001B[39m\u001B[38;5;241m.\u001B[39mpredict(dtrain, output_margin\u001B[38;5;241m=\u001B[39m\u001B[38;5;28;01mTrue\u001B[39;00m, training\u001B[38;5;241m=\u001B[39m\u001B[38;5;28;01mTrue\u001B[39;00m)\n",
      "\u001B[0;31mKeyboardInterrupt\u001B[0m: "
     ]
    }
   ],
   "execution_count": 6
  },
  {
   "metadata": {
    "ExecuteTime": {
     "end_time": "2024-11-27T05:55:40.438974Z",
     "start_time": "2024-11-27T05:55:36.639716Z"
    }
   },
   "cell_type": "code",
   "source": [
    "# Test 2: Y^{\\bar{1}} ⫫ A0 | L0\n",
    "X = data[['L_0']].values\n",
    "y = data['A_0'].values\n",
    "baseline_auc, auc_with_y = roc_aud_conditional_independence_test(X, y, data['Y_bar1'].values)\n",
    "print(f\"Test 2 (without U0): Baseline AUC={baseline_auc}, AUC with Y_bar1={auc_with_y}\")\n"
   ],
   "id": "1c757faeadd37e99",
   "outputs": [
    {
     "name": "stdout",
     "output_type": "stream",
     "text": [
      "Test 2 (without U0): Baseline AUC=0.7275974381460293, AUC with Y_bar1=0.8237608423671091\n"
     ]
    }
   ],
   "execution_count": 33
  },
  {
   "metadata": {},
   "cell_type": "markdown",
   "source": "### 1.3 Check sequential conditional exchangeability is violated with only observed set of covaraites via ROC AUC ",
   "id": "92e7aa542e8c84b3"
  },
  {
   "metadata": {
    "ExecuteTime": {
     "end_time": "2024-11-27T05:55:48.366945Z",
     "start_time": "2024-11-27T05:55:43.976598Z"
    }
   },
   "cell_type": "code",
   "source": [
    "# Test 3: Y^{\\bar{1}} ⫫ A1 | A0, L0, U0, L1\n",
    "X = data[['A_0', 'L_0', 'U_0', 'L_1']].values\n",
    "y = data['A_1'].values\n",
    "baseline_auc, auc_with_y = roc_aud_conditional_independence_test(X, y, data['Y_bar1'].values)\n",
    "print(f\"Test 3 (with U0): Baseline AUC={baseline_auc}, AUC with Y_bar1={auc_with_y}\")\n"
   ],
   "id": "f7530d9ccd479996",
   "outputs": [
    {
     "name": "stdout",
     "output_type": "stream",
     "text": [
      "Test 3 (with U0): Baseline AUC=0.852919989085951, AUC with Y_bar1=0.8531379646456854\n"
     ]
    }
   ],
   "execution_count": 34
  },
  {
   "metadata": {
    "ExecuteTime": {
     "end_time": "2024-11-27T05:55:54.469532Z",
     "start_time": "2024-11-27T05:55:50.451763Z"
    }
   },
   "cell_type": "code",
   "source": [
    "# Test 4: Y^{\\bar{1}} ⫫ A1 | A0, L0, L_1\n",
    "X = data[['A_0', 'L_0', 'L_1']].values\n",
    "y = data['A_1'].values\n",
    "baseline_auc, auc_with_y = roc_aud_conditional_independence_test(X, y, data['Y_bar1'].values)\n",
    "print(f\"Test 4 (without U0): Baseline AUC={baseline_auc}, AUC with Y_bar1={auc_with_y}\")\n"
   ],
   "id": "c221137577c7d245",
   "outputs": [
    {
     "name": "stdout",
     "output_type": "stream",
     "text": [
      "Test 4 (without U0): Baseline AUC=0.8278589512706339, AUC with Y_bar1=0.8443723662717287\n"
     ]
    }
   ],
   "execution_count": 35
  },
  {
   "metadata": {},
   "cell_type": "markdown",
   "source": "### 1.4 Check sequential conditional exchangeability holds with full set of covariates via statistical test",
   "id": "f3d61da882d130e3"
  },
  {
   "metadata": {
    "ExecuteTime": {
     "end_time": "2024-11-27T05:44:11.584378Z",
     "start_time": "2024-11-27T05:44:11.573007Z"
    }
   },
   "cell_type": "code",
   "source": [
    "def kernel_conditional_independence_test(X, Y, Z, gamma=1.0, kernel='rbf', threshold=0.05):\n",
    "    \"\"\"\n",
    "    Perform a kernel-based conditional independence test.\n",
    "\n",
    "    Parameters:\n",
    "    - X: np.array, the first variable to test for independence\n",
    "    - Y: np.array, the second variable to test for independence\n",
    "    - Z: np.array, the conditioning set\n",
    "    - gamma: float, bandwidth for RBF kernel\n",
    "    - kernel: str, kernel type ('rbf' only in this implementation)\n",
    "    - threshold: float, significance threshold for rejecting the null\n",
    "\n",
    "    Returns:\n",
    "    - p_value: float, p-value for the conditional independence test\n",
    "    - decision: bool, True if conditional independence is rejected (dependent)\n",
    "    \"\"\"\n",
    "\n",
    "    # Ensure inputs are numpy arrays\n",
    "    X = np.array(X).reshape(-1, 1)\n",
    "    Y = np.array(Y).reshape(-1, 1)\n",
    "    Z = np.array(Z)\n",
    "\n",
    "    # Compute kernels\n",
    "    if kernel == 'rbf':\n",
    "        K_X = rbf_kernel(X, gamma=gamma)\n",
    "        K_Y = rbf_kernel(Y, gamma=gamma)\n",
    "        K_Z = rbf_kernel(Z, gamma=gamma)\n",
    "    else:\n",
    "        raise ValueError(\"Unsupported kernel. Only 'rbf' is implemented.\")\n",
    "\n",
    "    # Compute residual kernels\n",
    "    K_X_given_Z = K_X - K_Z @ np.linalg.pinv(K_Z) @ K_X\n",
    "    K_Y_given_Z = K_Y - K_Z @ np.linalg.pinv(K_Z) @ K_Y\n",
    "\n",
    "    # Compute the test statistic (correlation of residual kernels)\n",
    "    test_statistic, _ = pearsonr(K_X_given_Z.ravel(), K_Y_given_Z.ravel())\n",
    "\n",
    "    # For simplicity, compute a pseudo p-value based on absolute correlation\n",
    "    p_value = 1 - abs(test_statistic)  # Lower value = more significant dependency\n",
    "\n",
    "    # Decide if conditional independence is rejected\n",
    "    decision = p_value < threshold\n",
    "\n",
    "    return p_value, decision"
   ],
   "id": "2e5727f4efb91e0",
   "outputs": [],
   "execution_count": 12
  },
  {
   "metadata": {
    "ExecuteTime": {
     "end_time": "2024-11-27T04:26:41.956997Z",
     "start_time": "2024-11-27T04:23:56.800904Z"
    }
   },
   "cell_type": "code",
   "source": [
    "# Test 1  whether Y^{\\bar{1}} is conditionally independent of A0 given L0, U0\n",
    "X = data['Y_bar1'].values  # Variable to test\n",
    "Y = data['A_0'].values     # Variable to test\n",
    "Z = data[['L_0', 'U_0']].values  # Conditioning set\n",
    "\n",
    "p_value, decision = kernel_conditional_independence_test(X, Y, Z, gamma=1.0)\n",
    "print(f\"Test 1 (Y_bar1 ⫫ A0 | L0, U0): p-value={p_value}, Reject CI={decision}\")"
   ],
   "id": "7af22de8a030f981",
   "outputs": [],
   "execution_count": null
  },
  {
   "metadata": {},
   "cell_type": "code",
   "outputs": [],
   "execution_count": null,
   "source": [
    "# Test 2 whether Y^{\\bar{1}} is conditionally independent of A0 given L0\n",
    "Z_without_U = data[['L_0']].values  # Conditioning set without U0\n",
    "p_value, decision = kernel_conditional_independence_test(X, Y, Z_without_U, gamma=1.0)\n",
    "print(f\"Test 2 (Y_bar1 ⫫ A0 | L0): p-value={p_value}, Reject CI={decision}\")"
   ],
   "id": "734d5808ffca88dc"
  },
  {
   "metadata": {},
   "cell_type": "markdown",
   "source": "### 1.5 Check sequential conditional exchangeability is violated with only observed set of covaraites via statistical test\n",
   "id": "bb304cd0c8550b44"
  },
  {
   "metadata": {},
   "cell_type": "code",
   "outputs": [],
   "execution_count": null,
   "source": [
    "# Test 3 whether Y^{\\bar{1}} is conditionally independent of A1 given A0, L0, U0, L1\n",
    "X = data['Y_bar1'].values  # Variable to test\n",
    "Y = data['A_1'].values     # Variable to test\n",
    "Z = data[['A_0', 'L_0', 'U_0', 'L_1']].values  # Conditioning set\n",
    "p_value, decision = kernel_conditional_independence_test(X, Y, Z, gamma=1.0)\n",
    "print(f\"Test 3 (Y_bar1 ⫫ A1 | A0, L0, U0, L1): p-value={p_value}, Reject CI={decision}\")\n"
   ],
   "id": "54a56d0e4b164834"
  },
  {
   "metadata": {},
   "cell_type": "code",
   "outputs": [],
   "execution_count": null,
   "source": [
    "# Test 4 whether Y^{\\bar{1}} is conditionally independent of A1 given A0, L0, L1\n",
    "Z_without_U = data[['A_0', 'L_0', 'L_1']].values  # Conditioning set without U0\n",
    "p_value, decision = kernel_conditional_independence_test(X, Y, Z_without_U, gamma=1.0)\n",
    "print(f\"Test 4 (Y_bar1 ⫫ A1 | A0, L0, L1): p-value={p_value}, Reject CI={decision}\")\n"
   ],
   "id": "83cc86ab106e6632"
  },
  {
   "metadata": {},
   "cell_type": "markdown",
   "source": "## 2. Compute population quantities\n",
   "id": "63443a99ff7430a6"
  },
  {
   "metadata": {
    "ExecuteTime": {
     "end_time": "2024-11-27T21:51:39.002624Z",
     "start_time": "2024-11-27T21:51:12.806051Z"
    }
   },
   "cell_type": "code",
   "source": [
    "# Restrict to certain subset, follow the math expression\n",
    "\n",
    "# Split the data into training and prediction sets\n",
    "train_data = data[:10000000]   # First 1000 rows for training\n",
    "predict_data = data[10000000:].copy() # Last 1000 rows for prediction\n",
    "\n",
    "# # Step 1: estimate b1_true and attach to predict_data\n",
    "# train_subset_a0a1 = train_data[(train_data['A_0'] == 1) & (train_data['A_1'] == 1)]\n",
    "# X_train1 = train_subset_a0a1[['L_0', 'L_1', 'U_0']]\n",
    "# Y_train1 = train_subset_a0a1['Y']\n",
    "# model1 = LinearRegression()\n",
    "# model1.fit(X_train1, Y_train1)\n",
    "# X_predict1 = predict_data[['L_0', 'L_1', 'U_0']]\n",
    "# predict_data = predict_data.copy()  # Create an explicit copy to avoid SettingWithCopyWarning\n",
    "# predict_data.loc[:, 'b1_true'] = model1.predict(X_predict1)  # Use .loc for explicit assignment\n",
    "\n",
    "# Step 1: get b1_true from the data generating process directly\n",
    "predict_data['b1_true'] = (params[\"Y_L0_coeff\"] * predict_data['L_0'] +\n",
    "                           params[\"Y_L1_coeff\"] * predict_data['L_1'] +\n",
    "                           params[\"Y_A0_coeff\"] * 1 +  # Set A0=1\n",
    "                           params[\"Y_A1_coeff\"] * 1 +  # Set A1=1\n",
    "                           params[\"Y_U0_coeff\"] * predict_data['U_0'])\n",
    "\n",
    "# Step 2: estimate b1_short and attach to predict_data\n",
    "train_subset_a0a1 = train_data[(train_data['A_0'] == 1) & (train_data['A_1'] == 1)]\n",
    "X_train2 = train_subset_a0a1[['L_0', 'L_1']]\n",
    "Y_train2 = train_subset_a0a1['Y']\n",
    "model2 = LinearRegression()\n",
    "model2.fit(X_train2, Y_train2)\n",
    "X_predict2 = predict_data[['L_0', 'L_1']]\n",
    "# No additional .copy() needed here as we already created one in Step 1\n",
    "predict_data.loc[:, 'b1_short'] = model2.predict(X_predict2)  # Use .loc for consistency\n",
    "\n",
    "# # Step 5: estimate pi1_true\n",
    "# train_subset_a0 = train_data[train_data['A_0'] == 1]\n",
    "# X_train5 = train_subset_a0[['L_0', 'L_1', 'U_0']]\n",
    "# Y_train5 = train_subset_a0['A_1']\n",
    "# model5 = LogisticRegression()\n",
    "# model5.fit(X_train5, Y_train5)\n",
    "# X_predict5 = predict_data[['L_0', 'L_1', 'U_0']]\n",
    "# predict_data.loc[:, 'pi1_true'] = model5.predict_proba(X_predict5)[:, 1]\n",
    "\n",
    "# Step 5: get pi1_true from the data generating process directly\n",
    "predict_data.loc[:, 'pi1_true'] = 1 / (1 + np.exp(-(params[\"A1_L1_coeff\"] * predict_data['L_1'] +\n",
    "                                            params[\"A1_A0_coeff\"] * 1 +  # Set A0 = 1\n",
    "                                            params[\"A1_L0_coeff\"] * predict_data['L_0'] +\n",
    "                                            params[\"A1_U0_coeff\"] * predict_data['U_0'])))\n",
    "\n",
    "# Step 6: estimate pi1_short\n",
    "train_subset_a0 = train_data[train_data['A_0'] == 1]\n",
    "X_train6 = train_subset_a0[['L_0', 'L_1']]\n",
    "Y_train6 = train_subset_a0['A_1']\n",
    "# model6 = LogisticRegression()\n",
    "# model6 = RandomForestClassifier(n_estimators=100, max_depth=None, random_state=43)  # Nonparametric model\n",
    "model6 = XGBClassifier(\n",
    "    n_estimators=100,     # Number of trees\n",
    "    max_depth=5,          # Maximum depth of a tree\n",
    "    learning_rate=0.1,    # Learning rate (eta)\n",
    "    subsample=0.8,        # Subsample ratio of training data\n",
    "    colsample_bytree=0.8, # Subsample ratio of columns when constructing each tree\n",
    "    random_state=43       # Random seed for reproducibility\n",
    ")\n",
    "model6.fit(X_train6, Y_train6)\n",
    "X_predict6 = predict_data[['L_0', 'L_1']]\n",
    "predict_data.loc[:, 'pi1_short'] = model6.predict_proba(X_predict6)[:, 1]\n",
    "\n",
    "# # Step 7: estimate pi0_true\n",
    "# X_train7 = train_data[['L_0', 'U_0']]\n",
    "# Y_train7 = train_data['A_0']\n",
    "# model7 = LogisticRegression()\n",
    "# model7.fit(X_train7, Y_train7)\n",
    "# X_predict7 = predict_data[['L_0', 'U_0']]\n",
    "# predict_data.loc[:, 'pi0_true'] = model7.predict_proba(X_predict7)[:, 1]\n",
    "\n",
    "# Step 7: get pi0_true from the data generating process directly\n",
    "predict_data.loc[:, 'pi0_true'] = 1 / (1 + np.exp(-(params[\"A0_L0_coeff\"] * predict_data['L_0'] +\n",
    "                                            params[\"A0_U0_coeff\"] * predict_data['U_0'])))\n",
    "\n",
    "# Step 8: estimate pi0_short\n",
    "X_train8 = train_data[['L_0']]\n",
    "Y_train8 = train_data['A_0']\n",
    "# model8 = LogisticRegression()\n",
    "# model8 = RandomForestClassifier(n_estimators=100, max_depth=None, random_state=43)  # Nonparametric model\n",
    "model8 = XGBClassifier(\n",
    "    n_estimators=100,     # Number of trees\n",
    "    max_depth=5,          # Maximum depth of a tree\n",
    "    learning_rate=0.1,    # Learning rate (eta)\n",
    "    subsample=0.8,        # Subsample ratio of training data\n",
    "    colsample_bytree=0.8, # Subsample ratio of columns when constructing each tree\n",
    "    random_state=43       # Random seed for reproducibility\n",
    ")\n",
    "model8.fit(X_train8, Y_train8)\n",
    "X_predict8 = predict_data[['L_0']]\n",
    "predict_data.loc[:, 'pi0_short'] = model8.predict_proba(X_predict8)[:, 1]\n",
    "\n",
    "# Step 3: estimate b0_true\n",
    "predict_train, predict_test = train_test_split(predict_data, test_size=0.5, random_state=42)\n",
    "predict_test = predict_test.copy()\n",
    "predict_train_subset = predict_train[predict_train['A_0'] == 1].copy()\n",
    "X_train3 = predict_train_subset[['L_0', 'U_0']]\n",
    "Y_train3 = predict_train_subset['b1_true']\n",
    "model3 = LinearRegression()\n",
    "model3.fit(X_train3, Y_train3)\n",
    "X_test3 = predict_test[['L_0', 'U_0']]\n",
    "predict_test.loc[:, 'b0_true'] = model3.predict(X_test3)  \n",
    "\n",
    "# Step 10: estimate ite_b1b0_short_true\n",
    "X_train10 = predict_train_subset[['L_0', 'U_0']]\n",
    "Y_train10 = predict_train_subset['b1_short']\n",
    "model10 = LinearRegression()\n",
    "model10.fit(X_train10, Y_train10)\n",
    "X_test10 = predict_test[['L_0', 'U_0']]\n",
    "predict_test.loc[:, 'ite_b1b0_short_true'] = model10.predict(X_test10)  \n",
    "\n",
    "# Step 4: estimate b0_short\n",
    "X_train4 = predict_train_subset[['L_0']]\n",
    "Y_train4 = predict_train_subset['b1_short']\n",
    "model4 = LinearRegression()\n",
    "model4.fit(X_train4, Y_train4)\n",
    "X_test4 = predict_test[['L_0']]\n",
    "predict_test.loc[:, 'b0_short'] = model4.predict(X_test4)"
   ],
   "id": "548fa83cd8f819b1",
   "outputs": [],
   "execution_count": 5
  },
  {
   "metadata": {
    "ExecuteTime": {
     "end_time": "2024-11-27T21:51:45.213757Z",
     "start_time": "2024-11-27T21:51:45.026003Z"
    }
   },
   "cell_type": "code",
   "source": [
    "# Compute important quantities \n",
    "a0pi0_short = predict_test['A_0'] / predict_test['pi0_short']\n",
    "a1pi1_short = predict_test['A_1'] / predict_test['pi1_short']\n",
    "a0pi0_true = predict_test['A_0'] / predict_test['pi0_true']\n",
    "a1pi1_true = predict_test['A_1'] / predict_test['pi1_true']\n",
    "\n",
    "diff_a0pi0 = a0pi0_true - a0pi0_short\n",
    "diff_a1pi1 = a1pi1_true - a1pi1_short\n",
    "\n",
    "diff_b0 = predict_test['b0_short'] - predict_test['b0_true']\n",
    "diff_b1 = predict_test['b1_short'] - predict_test['b1_true']\n"
   ],
   "id": "48c195bff0d71ae5",
   "outputs": [],
   "execution_count": 6
  },
  {
   "metadata": {},
   "cell_type": "markdown",
   "source": "### 2.1 Compute the population quantity of mean potential outcome under treatment path $\\bar{A} = \\bar{1}$ (1)\n",
   "id": "478fc51d05d8ea5b"
  },
  {
   "metadata": {
    "ExecuteTime": {
     "end_time": "2024-11-27T21:51:48.410317Z",
     "start_time": "2024-11-27T21:51:47.632800Z"
    }
   },
   "cell_type": "code",
   "source": [
    "mean_Y_bar1 = np.mean(Y_bar1)\n",
    "display(Math(r\"E[Y^{{\\bar{{1}}}}] = {:.4f}\".format(mean_Y_bar1)))"
   ],
   "id": "206c1c1e1f71ef4f",
   "outputs": [
    {
     "data": {
      "text/plain": [
       "<IPython.core.display.Math object>"
      ],
      "text/latex": "$\\displaystyle E[Y^{\\bar{1}}] = 1.5196$"
     },
     "metadata": {},
     "output_type": "display_data"
    }
   ],
   "execution_count": 7
  },
  {
   "metadata": {},
   "cell_type": "markdown",
   "source": [
    "### 2.2 Compute the population AIPW $\\psi$ based on (8)\n",
    "\n"
   ],
   "id": "2c9fc40a2cc7059c"
  },
  {
   "metadata": {
    "ExecuteTime": {
     "end_time": "2024-11-27T21:51:59.441187Z",
     "start_time": "2024-11-27T21:51:59.330473Z"
    }
   },
   "cell_type": "code",
   "source": [
    "# Calculate psi_true\n",
    "psi_true = np.mean(predict_test['b0_true'] - a0pi0_true * predict_test['b0_true']\n",
    "            - a0pi0_true * a1pi1_true * predict_test['b1_true']\n",
    "            + a0pi0_true * predict_test['b1_true']\n",
    "            + a0pi0_true * a1pi1_true * predict_test['Y'])\n",
    "\n",
    "display(Math(r\"\\psi = {:.4f}\".format(psi_true)))\n"
   ],
   "id": "509ecc40571f584c",
   "outputs": [
    {
     "data": {
      "text/plain": [
       "<IPython.core.display.Math object>"
      ],
      "text/latex": "$\\displaystyle \\psi = 1.5206$"
     },
     "metadata": {},
     "output_type": "display_data"
    }
   ],
   "execution_count": 10
  },
  {
   "metadata": {},
   "cell_type": "markdown",
   "source": "### 2.3 Compute the incorrect population AIPW $\\psi^*$ based on (11)",
   "id": "13c397d38725d66d"
  },
  {
   "metadata": {
    "ExecuteTime": {
     "end_time": "2024-11-27T21:52:03.584416Z",
     "start_time": "2024-11-27T21:52:03.519498Z"
    }
   },
   "cell_type": "code",
   "source": [
    "# Calculate psi_short\n",
    "psi_short = np.mean(predict_test['b0_short'] - a0pi0_short * predict_test['b0_short']\n",
    "            - a0pi0_short * a1pi1_short * predict_test['b1_short']\n",
    "            + a0pi0_short * predict_test['b1_short']\n",
    "            + a0pi0_short * a1pi1_short * predict_test['Y'])\n",
    "\n",
    "display(Math(r\"\\psi^* = {:.4f}\".format(psi_short)))\n"
   ],
   "id": "5bf39bb2770e7d9f",
   "outputs": [
    {
     "data": {
      "text/plain": [
       "<IPython.core.display.Math object>"
      ],
      "text/latex": "$\\displaystyle \\psi^* = 1.6546$"
     },
     "metadata": {},
     "output_type": "display_data"
    }
   ],
   "execution_count": 12
  },
  {
   "metadata": {},
   "cell_type": "markdown",
   "source": "### 2.4 Compute their difference $\\psi^*-\\psi$ as listed (12)",
   "id": "931c1c3dd50c089"
  },
  {
   "metadata": {
    "ExecuteTime": {
     "end_time": "2024-11-27T21:52:11.448983Z",
     "start_time": "2024-11-27T21:52:11.435961Z"
    }
   },
   "cell_type": "code",
   "source": [
    "diff_psi = psi_short - psi_true\n",
    "display(Math(r\"\\psi^* - \\psi = {:.4f}\".format(diff_psi)))\n"
   ],
   "id": "8161e3645ef8ab80",
   "outputs": [
    {
     "data": {
      "text/plain": [
       "<IPython.core.display.Math object>"
      ],
      "text/latex": "$\\displaystyle \\psi^* - \\psi = 0.1340$"
     },
     "metadata": {},
     "output_type": "display_data"
    }
   ],
   "execution_count": 13
  },
  {
   "metadata": {},
   "cell_type": "markdown",
   "source": "### 2.5 Compute the basic ovb based on equation (13)",
   "id": "182d0b603d6bf552"
  },
  {
   "metadata": {
    "ExecuteTime": {
     "end_time": "2024-11-27T21:52:13.519822Z",
     "start_time": "2024-11-27T21:52:13.416612Z"
    }
   },
   "cell_type": "code",
   "source": [
    "ovb_basic = np.mean(diff_b0 * diff_a0pi0 + a0pi0_short * diff_b1 * diff_a1pi1)\n",
    "print(f\"Basic OVB Formula = {ovb_basic:.4f}\")"
   ],
   "id": "c55443ccd6339b57",
   "outputs": [
    {
     "name": "stdout",
     "output_type": "stream",
     "text": [
      "Basic OVB Formula = 0.1339\n"
     ]
    }
   ],
   "execution_count": 14
  },
  {
   "metadata": {},
   "cell_type": "markdown",
   "source": "### 2.6 Compute simplified ovb based on equation (24), (25)",
   "id": "9f12e142ffc05411"
  },
  {
   "metadata": {
    "ExecuteTime": {
     "end_time": "2024-11-27T21:52:15.665215Z",
     "start_time": "2024-11-27T21:52:15.484542Z"
    }
   },
   "cell_type": "code",
   "source": [
    "K1 = np.mean((predict_test['b0_short']- predict_test['ite_b1b0_short_true']) * diff_a0pi0)\n",
    "K2 = np.mean((predict_test['ite_b1b0_short_true'] - predict_test['b0_true']) * diff_a0pi0)\n",
    "K3 = np.mean(diff_b1 * (a1pi1_true * a0pi0_true - a1pi1_short * a0pi0_short))\n",
    "K4 = np.mean(diff_b1 * a1pi1_true * (a0pi0_short - a0pi0_true))\n",
    "print(np.mean(a1pi1_true * a0pi0_true - a1pi1_short * a0pi0_short))\n",
    "\n",
    "sum_K2_K4 = K2 + K4\n",
    "sum_K1_K2_K3_K4 = K1 + K2 + K3 + K4\n",
    "sum_K1_K3 = K1 + K3\n",
    "sum_B1_B2 = K1 + K3\n",
    "print(f\"K2 + K4 = {sum_K2_K4:.4f}\")\n",
    "print(f\"K1 + K2 + K3 + K4 = {sum_K1_K2_K3_K4:.4f}\")\n",
    "print(f\"K1 + K3 = {sum_K1_K3:.4f}\")\n",
    "print(f\"B1 + B2 = {sum_B1_B2:.4f}\")\n"
   ],
   "id": "213116b79ac0f224",
   "outputs": [
    {
     "name": "stdout",
     "output_type": "stream",
     "text": [
      "-0.00013668066535688634\n",
      "K2 + K4 = 0.0001\n",
      "K1 + K2 + K3 + K4 = 0.1339\n",
      "K1 + K3 = 0.1338\n",
      "B1 + B2 = 0.1338\n"
     ]
    }
   ],
   "execution_count": 15
  },
  {
   "metadata": {},
   "cell_type": "markdown",
   "source": "### 2.7 Compute the ovb bound based on (14) together with (15)",
   "id": "e12f88ada573af3"
  },
  {
   "metadata": {
    "ExecuteTime": {
     "end_time": "2024-11-27T21:52:21.770986Z",
     "start_time": "2024-11-27T21:52:21.605957Z"
    }
   },
   "cell_type": "code",
   "source": [
    "# Compute upper bound of B1_square and B2_square\n",
    "B11_square = np.mean((predict_test['b0_short']- predict_test['ite_b1b0_short_true']) ** 2)\n",
    "B12_square = np.mean(diff_a0pi0 ** 2)\n",
    "B21_square = np.mean(diff_b1 ** 2)\n",
    "B22_square = np.mean((a1pi1_true * a0pi0_true - a1pi1_short * a0pi0_short) ** 2)\n",
    "print(B11_square, B12_square, B21_square, B22_square)  # variation 160.417 is huge \n",
    "print(np.mean(a1pi1_true * a0pi0_true - a1pi1_short * a0pi0_short))  # mean is 0.0068\n",
    "\n",
    "B1_square_ub = B11_square * B12_square\n",
    "B2_square_ub = B21_square * B22_square\n",
    "print(B1_square_ub, B2_square_ub)\n",
    "\n",
    "B1_ub = np.sqrt(B1_square_ub)\n",
    "B2_ub = np.sqrt(B2_square_ub)\n",
    "print(B1_ub, B2_ub)\n",
    "\n",
    "ovb_ub = B1_ub + B2_ub\n",
    "display(Math(r\"|\\psi^* - \\psi| \\le |B_1| + |B_2| \\le {:.4f}\".format(ovb_ub)))"
   ],
   "id": "d29d8adccb3cd2a5",
   "outputs": [
    {
     "name": "stdout",
     "output_type": "stream",
     "text": [
      "0.031278353527278355 0.05959231380136106 0.24513946477352097 0.3764737921256619\n",
      "-0.00013668066535688634\n",
      "0.0018639494585874804 0.09228858390294255\n",
      "0.04317348096444715 0.30379036176768764\n"
     ]
    },
    {
     "data": {
      "text/plain": [
       "<IPython.core.display.Math object>"
      ],
      "text/latex": "$\\displaystyle |\\psi^* - \\psi| \\le |B_1| + |B_2| \\le 0.3470$"
     },
     "metadata": {},
     "output_type": "display_data"
    }
   ],
   "execution_count": 16
  },
  {
   "metadata": {},
   "cell_type": "markdown",
   "source": "### 2.8  Compute the ovb bound based on (14), (15), and (18).",
   "id": "e000f31fc3b29686"
  },
  {
   "metadata": {
    "ExecuteTime": {
     "end_time": "2024-11-27T21:52:28.618455Z",
     "start_time": "2024-11-27T21:52:28.297300Z"
    }
   },
   "cell_type": "code",
   "source": [
    "C1b1_square = (np.mean((predict_test['b0_short'] - predict_test['ite_b1b0_short_true']) ** 2) / \n",
    "               np.mean((predict_test['b1_short'] - predict_test['ite_b1b0_short_true']) ** 2))\n",
    "S1_square = np.mean((predict_test['b1_short'] - predict_test['ite_b1b0_short_true']) ** 2) * np.mean(a0pi0_short ** 2)\n",
    "Ca0_square = np.mean(diff_a0pi0 ** 2) / np.mean(a0pi0_short ** 2)\n",
    "\n",
    "C1b1_square_S1_square_Ca0_square = C1b1_square * S1_square * Ca0_square  # equals B1_square_ub \n",
    "\n",
    "\n",
    "Cy_square = np.mean(diff_b1 ** 2) / np.mean((predict_test['Y'] - predict_test['b1_short']) ** 2)\n",
    "S2_square = np.mean((predict_test['Y'] - predict_test['b1_short']) ** 2) * np.mean((a1pi1_short * a0pi0_short) ** 2)\n",
    "Ca0a1_square = (np.mean((a1pi1_true * a0pi0_true - a1pi1_short * a0pi0_short) ** 2) / \n",
    "                np.mean((a1pi1_short * a0pi0_short) ** 2))  # equals B2_square_ub\n",
    "\n",
    "Cy_square_S2_square_Ca0a1_square = Cy_square * S2_square * Ca0a1_square\n",
    "\n",
    "display(Math(r\"C_{{b_1^*}}^2 S_1^2 C_{{A_0}}^2 = {:.4f}\".format(C1b1_square_S1_square_Ca0_square)))\n",
    "display(Math(r\"C_{{Y}}^2 S_2^2 C_{{\\bar{{A}}}}^2 = {:.4f}\".format(Cy_square_S2_square_Ca0a1_square)))\n",
    "\n"
   ],
   "id": "d46e25b8c95fc5b5",
   "outputs": [
    {
     "data": {
      "text/plain": [
       "<IPython.core.display.Math object>"
      ],
      "text/latex": "$\\displaystyle C_{b_1^*}^2 S_1^2 C_{A_0}^2 = 0.0019$"
     },
     "metadata": {},
     "output_type": "display_data"
    },
    {
     "data": {
      "text/plain": [
       "<IPython.core.display.Math object>"
      ],
      "text/latex": "$\\displaystyle C_{Y}^2 S_2^2 C_{\\bar{A}}^2 = 0.0923$"
     },
     "metadata": {},
     "output_type": "display_data"
    }
   ],
   "execution_count": 17
  },
  {
   "metadata": {},
   "cell_type": "markdown",
   "source": "### 2.9 Summary table",
   "id": "cff74129ee680012"
  },
  {
   "metadata": {
    "ExecuteTime": {
     "end_time": "2024-11-27T21:52:33.591231Z",
     "start_time": "2024-11-27T21:52:33.567664Z"
    }
   },
   "cell_type": "code",
   "source": [
    "\n",
    "# Define the quantities to include in the summary table\n",
    "summary_data = {\n",
    "    \"Row Name\": [\n",
    "        r\"$\\mathbb{E}[Y^{\\bar{1}}]$\",\n",
    "        r\"$\\psi$\",\n",
    "        r\"$\\psi^*$\",\n",
    "        r\"$\\psi^* - \\psi$\",\n",
    "        r\"Basic OVB\",\n",
    "        r\"$B_1 + B_2$\",\n",
    "        r\"$|\\psi^* - \\psi| \\leq |B_1| + |B_2| \\leq (C_{{b_1^*}}^2 S_1^2 C_{{A_0}}^2)^{1/2} + (C_{{Y}}^2 S_2^2 C_{{\\bar{{A}}}}^2)^{1/2}$\"\n",
    "    ],\n",
    "    \"Value\": [\n",
    "        mean_Y_bar1,  \n",
    "        psi_true,  \n",
    "        psi_short,  \n",
    "        diff_psi,  \n",
    "        ovb_basic,  \n",
    "        sum_B1_B2,  \n",
    "        ovb_ub  \n",
    "    ]\n",
    "}\n",
    "\n",
    "# Create the table header with spacing\n",
    "markdown_table = \"| Row Name                              | Value     |\\n\"\n",
    "markdown_table += \"|---------------------------------------|-----------|\\n\"\n",
    "\n",
    "# Add each row to the table with better spacing\n",
    "for name, value in zip(summary_data[\"Row Name\"], summary_data[\"Value\"]):\n",
    "    markdown_table += f\"| {name}                                | {value:.6f} |\\n\"\n",
    "\n",
    "# Display the formatted table\n",
    "display(Markdown(markdown_table))\n"
   ],
   "id": "cef037a5e90b05f4",
   "outputs": [
    {
     "data": {
      "text/plain": [
       "<IPython.core.display.Markdown object>"
      ],
      "text/markdown": "| Row Name                              | Value     |\n|---------------------------------------|-----------|\n| $\\mathbb{E}[Y^{\\bar{1}}]$                                | 1.519582 |\n| $\\psi$                                | 1.520553 |\n| $\\psi^*$                                | 1.654579 |\n| $\\psi^* - \\psi$                                | 0.134026 |\n| Basic OVB                                | 0.133919 |\n| $B_1 + B_2$                                | 0.133792 |\n| $|\\psi^* - \\psi| \\leq |B_1| + |B_2| \\leq (C_{{b_1^*}}^2 S_1^2 C_{{A_0}}^2)^{1/2} + (C_{{Y}}^2 S_2^2 C_{{\\bar{{A}}}}^2)^{1/2}$                                | 0.346964 |\n"
     },
     "metadata": {},
     "output_type": "display_data"
    }
   ],
   "execution_count": 18
  }
 ],
 "metadata": {
  "kernelspec": {
   "display_name": "Python 3",
   "language": "python",
   "name": "python3"
  },
  "language_info": {
   "codemirror_mode": {
    "name": "ipython",
    "version": 2
   },
   "file_extension": ".py",
   "mimetype": "text/x-python",
   "name": "python",
   "nbconvert_exporter": "python",
   "pygments_lexer": "ipython2",
   "version": "2.7.6"
  }
 },
 "nbformat": 4,
 "nbformat_minor": 5
}
